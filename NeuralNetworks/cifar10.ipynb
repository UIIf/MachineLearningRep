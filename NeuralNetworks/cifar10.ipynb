{
 "cells": [
  {
   "cell_type": "code",
   "execution_count": 1,
   "metadata": {},
   "outputs": [],
   "source": [
    "from torch.utils.tensorboard import SummaryWriter"
   ]
  },
  {
   "cell_type": "code",
   "execution_count": 2,
   "metadata": {},
   "outputs": [],
   "source": [
    "from __future__ import annotations\n",
    "import os\n",
    "import datetime\n",
    "import numpy as np\n",
    "import sklearn.metrics\n",
    "import torch\n",
    "from torch.utils.data import Dataset\n",
    "import torchvision.transforms as T\n",
    "from torch.utils.data import DataLoader, WeightedRandomSampler\n",
    "import sklearn.datasets\n",
    "import matplotlib.pyplot as plt\n",
    "from sklearn.model_selection import train_test_split\n",
    "from torchvision.models import resnet18\n",
    "\n",
    "\n",
    "from tqdm.notebook import tqdm\n",
    "import seaborn as sns\n",
    "\n",
    "sns.set_style(\"dark\")\n",
    "sns.set(rc={\"figure.figsize\": (10, 10), \"axes.grid\": False})\n",
    "rng = np.random.default_rng()"
   ]
  },
  {
   "cell_type": "code",
   "execution_count": 3,
   "metadata": {},
   "outputs": [],
   "source": [
    "from torch.utils.data.dataloader import default_collate\n",
    "from torchvision.transforms import v2"
   ]
  },
  {
   "cell_type": "code",
   "execution_count": 4,
   "metadata": {},
   "outputs": [],
   "source": [
    "def unpickle(file):\n",
    "    import pickle\n",
    "\n",
    "    with open(file, \"rb\") as fo:\n",
    "        dict = pickle.load(fo, encoding=\"bytes\")\n",
    "    return dict\n"
   ]
  },
  {
   "cell_type": "code",
   "execution_count": 47,
   "metadata": {},
   "outputs": [],
   "source": [
    "label_description = [\n",
    "    \"airplane\",\n",
    "    \"automobile\",\n",
    "    \"bird\",\n",
    "    \"cat\",\n",
    "    \"deer\",\n",
    "    \"dog\",\n",
    "    \"frog\",\n",
    "    \"horse\",\n",
    "    \"ship\",\n",
    "    \"truck\",\n",
    "]\n",
    "\n",
    "opposite = {1: 9, 9: 1, 3: 5, 5: 3, 4: 7, 7: 4}\n",
    "opposite_multiplyers = torch.ones((10, 10))\n",
    "for key, value in opposite.items():\n",
    "    opposite_multiplyers[key][value] = 2"
   ]
  },
  {
   "cell_type": "code",
   "execution_count": 6,
   "metadata": {},
   "outputs": [],
   "source": [
    "labels = []\n",
    "data = []\n",
    "for batch_ind in range(1, 6):\n",
    "    batch = unpickle(f\"./datasets/cifar10/data_batch_{batch_ind}\")\n",
    "    labels.extend(batch[b\"labels\"])\n",
    "    if len(data) == 0:\n",
    "        data = batch[b\"data\"].reshape(-1, 3, 32, 32)\n",
    "    else:\n",
    "        data = np.concatenate((data, batch[b\"data\"].reshape(-1, 3, 32, 32)))\n",
    "\n",
    "# data = np.moveaxis(data, 1, -1)"
   ]
  },
  {
   "cell_type": "code",
   "execution_count": 7,
   "metadata": {},
   "outputs": [],
   "source": [
    "def plot_grid(X, y, ncols=2, nrows=2, figsize=(10, 10), hide_axes=True):\n",
    "    fig, ax = plt.subplots(ncols=ncols, nrows=nrows, figsize=figsize)\n",
    "    indexes = rng.choice(np.arange(X.shape[0]), size=ax.shape)\n",
    "    imgs = np.moveaxis(X[indexes].reshape(*ax.shape, 3, 32, 32), 2, -1)\n",
    "\n",
    "    plt.imshow(imgs[0][0])\n",
    "    labels = y[indexes].reshape(*ax.shape)\n",
    "    for i in range(ax.shape[0]):\n",
    "        for j in range(ax.shape[1]):\n",
    "            ax[i, j].imshow(imgs[i, j], cmap='gray')\n",
    "            ax[i, j].set_title(label_description[labels[i, j]])\n",
    "            if hide_axes:\n",
    "                ax[i, j].get_xaxis().set_visible(False)\n",
    "                ax[i, j].get_yaxis().set_visible(False)"
   ]
  },
  {
   "cell_type": "code",
   "execution_count": 8,
   "metadata": {},
   "outputs": [],
   "source": [
    "def plot_grid_and_label(\n",
    "    dataloader,\n",
    "    model,\n",
    "    ncols=2,\n",
    "    nrows=2,\n",
    "    figsize=(10, 10),\n",
    "    hide_axes=True,\n",
    "    flatten_image=True,\n",
    "    label_description=None,\n",
    "):\n",
    "    fig, ax = plt.subplots(ncols=ncols, nrows=nrows, figsize=figsize)\n",
    "\n",
    "    batch = next(iter(dataloader))\n",
    "    idx = rng.choice(np.arange(len(batch[0])), size=(nrows * ncols))\n",
    "\n",
    "    imgs = batch[0][idx].to(device=\"cpu\")\n",
    "    labels = batch[1][idx].to(device=\"cpu\")\n",
    "    print(imgs.shape)\n",
    "    pred = model(imgs).to(device=\"cpu\")\n",
    "    imgs, labels, pred = (\n",
    "        torch.moveaxis(imgs, 1, -1).to(device=\"cpu\").reshape(nrows, ncols, 32, 32, 3),\n",
    "        labels.to(device=\"cpu\").reshape(nrows, ncols, -1),\n",
    "        pred.reshape(nrows, ncols, -1),\n",
    "    )\n",
    "\n",
    "    for i in range(ax.shape[0]):\n",
    "        for j in range(ax.shape[1]):\n",
    "            ax[i, j].imshow(imgs[i, j], cmap=\"gray\")\n",
    "            ax[i, j].set_title(\n",
    "                f\"label: {label_description[labels[i, j].argmax()]}, prediction: {label_description[pred[i, j].argmax()]}\"\n",
    "            )\n",
    "            if hide_axes:\n",
    "                ax[i, j].get_xaxis().set_visible(False)\n",
    "                ax[i, j].get_yaxis().set_visible(False)"
   ]
  },
  {
   "cell_type": "code",
   "execution_count": 9,
   "metadata": {},
   "outputs": [],
   "source": [
    "X, y = data, np.array(labels)\n",
    "X = X / 255\n",
    "X, y = X.astype(dtype=np.float32), y\n",
    "X_train, X_test, y_train, y_test = train_test_split(X, y)"
   ]
  },
  {
   "cell_type": "code",
   "execution_count": 10,
   "metadata": {},
   "outputs": [],
   "source": [
    "counts = { j: np.sum(y_train == i) for i, j in enumerate(label_description) }"
   ]
  },
  {
   "cell_type": "code",
   "execution_count": 11,
   "metadata": {},
   "outputs": [
    {
     "data": {
      "text/plain": [
       "{'airplane': 3807,\n",
       " 'automobile': 3740,\n",
       " 'bird': 3741,\n",
       " 'cat': 3742,\n",
       " 'deer': 3837,\n",
       " 'dog': 3710,\n",
       " 'frog': 3720,\n",
       " 'horse': 3759,\n",
       " 'ship': 3725,\n",
       " 'truck': 3719}"
      ]
     },
     "execution_count": 11,
     "metadata": {},
     "output_type": "execute_result"
    }
   ],
   "source": [
    "counts # what to do with imbalanced classes?"
   ]
  },
  {
   "cell_type": "code",
   "execution_count": 12,
   "metadata": {
    "tags": []
   },
   "outputs": [
    {
     "data": {
      "image/png": "[encoded data removed]",
      "text/plain": [
       "<Figure size 1000x1000 with 4 Axes>"
      ]
     },
     "metadata": {},
     "output_type": "display_data"
    }
   ],
   "source": [
    "plot_grid(X_train, y_train)"
   ]
  },
  {
   "cell_type": "markdown",
   "metadata": {},
   "source": [
    "## Torch utils"
   ]
  },
  {
   "cell_type": "code",
   "execution_count": 13,
   "metadata": {},
   "outputs": [],
   "source": [
    "def get_n_params(model):\n",
    "    pp = 0\n",
    "    for p in list(model.parameters()):\n",
    "        nn = 1\n",
    "        for s in list(p.size()):\n",
    "            nn = nn * s\n",
    "        pp += nn\n",
    "    return pp"
   ]
  },
  {
   "cell_type": "code",
   "execution_count": 57,
   "metadata": {},
   "outputs": [
    {
     "data": {
      "text/plain": [
       "tensor([[1., 1., 1.,  ..., 1., 1., 1.],\n",
       "        [1., 1., 1.,  ..., 1., 1., 1.],\n",
       "        [1., 1., 1.,  ..., 2., 1., 1.],\n",
       "        ...,\n",
       "        [1., 1., 1.,  ..., 1., 1., 1.],\n",
       "        [1., 1., 1.,  ..., 1., 1., 1.],\n",
       "        [1., 1., 1.,  ..., 2., 1., 1.]])"
      ]
     },
     "execution_count": 57,
     "metadata": {},
     "output_type": "execute_result"
    }
   ],
   "source": []
  },
  {
   "cell_type": "code",
   "execution_count": 67,
   "metadata": {},
   "outputs": [],
   "source": [
    "class ImageDataset(Dataset):\n",
    "    inds = torch.arange(10, device=\"cuda\")\n",
    "\n",
    "    def __init__(\n",
    "        self,\n",
    "        images,\n",
    "        targets,\n",
    "        transform=None,\n",
    "        target_transform=None,\n",
    "        train_transform=None,\n",
    "    ):\n",
    "        self.images = images\n",
    "        self.targets = (ImageDataset.inds[None] == targets[:, None]).to(\n",
    "            dtype=torch.float32\n",
    "        )\n",
    "        # self.custom_loss = opposite_multiplyers[self.targets.detach().cpu().numpy()]\n",
    "        self.transform = transform\n",
    "        self.target_transform = target_transform\n",
    "        self.train_transform = train_transform\n",
    "\n",
    "        self.is_train = True\n",
    "\n",
    "    def train(self):\n",
    "        self.is_train = True\n",
    "\n",
    "    def eval(self):\n",
    "        self.is_train = False\n",
    "\n",
    "    def __len__(self):\n",
    "        return len(self.images)\n",
    "\n",
    "    def __getitem__(self, idx):\n",
    "        image = self.images[idx]\n",
    "        label = self.targets[idx]\n",
    "        if self.transform:\n",
    "            image = self.transform(image)\n",
    "        if self.target_transform:\n",
    "            label = self.target_transform(label)\n",
    "\n",
    "        if self.train_transform and self.is_train:\n",
    "            image = self.train_transform(image)\n",
    "        return image, label"
   ]
  },
  {
   "cell_type": "code",
   "execution_count": 68,
   "metadata": {},
   "outputs": [],
   "source": [
    "def accuracy_func(pred, tareget):\n",
    "    return (pred.argmax(dim=-1) == tareget.argmax(dim=-1)).sum() / len(tareget)\n",
    "\n",
    "\n",
    "def train_one_epoch(\n",
    "    model: torch.nn.Module,\n",
    "    loss_fn,\n",
    "    epoch_index,\n",
    "    training_loader,\n",
    "    testing_loader,\n",
    "    optimizer,\n",
    "    writer: SummaryWriter,\n",
    "    model_name,\n",
    "    smalest_test_loss=np.inf,\n",
    "    sced=None,\n",
    "):\n",
    "    running_loss = 0.0\n",
    "    running_acc = 0.0\n",
    "    last_loss = 0.0\n",
    "\n",
    "    # Here, we use enumerate(training_loader) instead of\n",
    "    # iter(training_loader) so that we can track the batch\n",
    "    # index and do some intra-epoch reporting\n",
    "    with tqdm(training_loader) as iterator:\n",
    "        for i, data in enumerate(iterator):\n",
    "            model.train(True)\n",
    "            # Every data instance is an input + label pair\n",
    "            inputs, labels = data\n",
    "\n",
    "            # Zero your gradients for every batch!\n",
    "            optimizer.zero_grad()\n",
    "\n",
    "            # Make predictions for this batch\n",
    "            outputs = model(inputs)\n",
    "\n",
    "            # Compute the loss and its gradients\n",
    "            loss = loss_fn(outputs, labels)\n",
    "            loss.backward()\n",
    "\n",
    "            # Adjust learning weights\n",
    "            optimizer.step()\n",
    "            if sced:\n",
    "                sced.step()\n",
    "\n",
    "            # Gather data and report\n",
    "            running_loss += loss\n",
    "            running_acc += accuracy_func(outputs, labels)\n",
    "            if i % 200 == 199:\n",
    "                running_loss_test = 0\n",
    "                running_acc_test = 0\n",
    "\n",
    "                last_loss = running_loss / 200  # loss per batch\n",
    "                tb_x = epoch_index * len(training_loader) + i + 1\n",
    "\n",
    "                iterator.set_description_str(str(running_acc / 200))\n",
    "                writer.add_scalars(\n",
    "                    \"accuracy\",\n",
    "                    {\n",
    "                        \"train\": running_acc / 200,\n",
    "                    },\n",
    "                    tb_x,\n",
    "                )\n",
    "                writer.add_scalars(\n",
    "                    \"loss\",\n",
    "                    {\n",
    "                        \"train\": running_loss / 200,\n",
    "                    },\n",
    "                    tb_x,\n",
    "                )\n",
    "                running_loss = 0.0\n",
    "                running_acc = 0.0\n",
    "        del loss\n",
    "        torch.cuda.empty_cache()\n",
    "    return last_loss, smalest_test_loss"
   ]
  },
  {
   "cell_type": "markdown",
   "metadata": {
    "tags": []
   },
   "source": [
    "## Images\n",
    "Use Conv2D layers with Dense layer on top"
   ]
  },
  {
   "cell_type": "code",
   "execution_count": 69,
   "metadata": {},
   "outputs": [],
   "source": [
    "transforms = v2.Compose(\n",
    "    [\n",
    "        v2.ColorJitter(\n",
    "            brightness=0.2,\n",
    "            saturation=0.2,\n",
    "            hue=0.2,\n",
    "        ),\n",
    "        v2.RandomHorizontalFlip(),\n",
    "    ]\n",
    ")"
   ]
  },
  {
   "cell_type": "code",
   "execution_count": 70,
   "metadata": {},
   "outputs": [],
   "source": [
    "# create train and validation datasets, these datasets should use 28x28x1 images\n",
    "\n",
    "# create train and validation datasets, these datasets should use flattened images\n",
    "train_ds = ImageDataset(\n",
    "    torch.tensor(X_train).to(device=\"cuda\"),\n",
    "    torch.tensor(y_train).to(device=\"cuda\"),\n",
    "    transform=v2.ToTensor(),\n",
    "    train_transform=transforms,\n",
    ")\n",
    "\n",
    "test_ds = ImageDataset(\n",
    "    torch.tensor(X_test).to(device=\"cuda\"),\n",
    "    torch.tensor(y_test).to(device=\"cuda\"),\n",
    "    transform=v2.ToTensor(),\n",
    ")"
   ]
  },
  {
   "cell_type": "code",
   "execution_count": 18,
   "metadata": {},
   "outputs": [],
   "source": [
    "train_dl = DataLoader(\n",
    "    train_ds,\n",
    "    batch_size=128,\n",
    "    shuffle=True\n",
    ")\n",
    "\n",
    "test_dl = DataLoader(\n",
    "    test_ds,\n",
    "    shuffle=True,\n",
    "    batch_size=128,\n",
    ")"
   ]
  },
  {
   "cell_type": "code",
   "execution_count": 19,
   "metadata": {},
   "outputs": [
    {
     "data": {
      "image/png": "[encoded data removed]",
      "text/plain": [
       "<Figure size 1000x1000 with 4 Axes>"
      ]
     },
     "metadata": {},
     "output_type": "display_data"
    }
   ],
   "source": [
    "dx, dy = next(iter(train_dl))\n",
    "plot_grid(dx.cpu().detach().numpy(), dy.argmax(dim=-1).cpu().detach().numpy())\n"
   ]
  },
  {
   "cell_type": "code",
   "execution_count": 20,
   "metadata": {},
   "outputs": [],
   "source": [
    "# 50k model\n",
    "class ConvModel(torch.nn.Module):\n",
    "    def __init__(self, device=\"cpu\"):\n",
    "        super(ConvModel, self).__init__()\n",
    "\n",
    "        self.conv: torch.nn.Sequential = torch.nn.Sequential(\n",
    "            #\n",
    "            torch.nn.Conv2d(3, 16, 3, padding=1),\n",
    "            torch.nn.BatchNorm2d(16),\n",
    "            torch.nn.LeakyReLU(),\n",
    "            torch.nn.Conv2d(16, 16, 3, padding=1),\n",
    "            torch.nn.BatchNorm2d(16),\n",
    "            torch.nn.LeakyReLU(),\n",
    "            #\n",
    "            torch.nn.MaxPool2d(2),\n",
    "            #\n",
    "            torch.nn.Conv2d(16, 32, 3, padding=1),\n",
    "            torch.nn.BatchNorm2d(32),\n",
    "            torch.nn.LeakyReLU(),\n",
    "            torch.nn.Conv2d(32, 32, 3, padding=1),\n",
    "            torch.nn.BatchNorm2d(32),\n",
    "            torch.nn.LeakyReLU(),\n",
    "            #\n",
    "            torch.nn.MaxPool2d(2),\n",
    "            #\n",
    "            torch.nn.Conv2d(32, 32, 3, padding=1),\n",
    "            torch.nn.BatchNorm2d(32),\n",
    "            torch.nn.LeakyReLU(),\n",
    "            torch.nn.Conv2d(32, 32, 3, padding=1),\n",
    "            torch.nn.BatchNorm2d(32),\n",
    "            torch.nn.LeakyReLU(),\n",
    "            torch.nn.Conv2d(32, 32, 3, padding=1),\n",
    "            torch.nn.BatchNorm2d(32),\n",
    "            torch.nn.LeakyReLU(),\n",
    "            #\n",
    "            torch.nn.MaxPool2d(2),\n",
    "            #\n",
    "            torch.nn.Conv2d(32, 16, 3, padding=1),\n",
    "            torch.nn.BatchNorm2d(16),\n",
    "            torch.nn.LeakyReLU(),\n",
    "            torch.nn.Conv2d(16, 16, 3, padding=1),\n",
    "            torch.nn.BatchNorm2d(16),\n",
    "            torch.nn.LeakyReLU(),\n",
    "            #\n",
    "            torch.nn.MaxPool2d(2),\n",
    "        )\n",
    "\n",
    "        self.fc = torch.nn.Sequential(\n",
    "            torch.nn.Flatten(),\n",
    "            torch.nn.Linear(64, 32),\n",
    "            torch.nn.LeakyReLU(),\n",
    "            torch.nn.Linear(32, 16),\n",
    "            torch.nn.LeakyReLU(),\n",
    "            torch.nn.Linear(16, 10),\n",
    "            torch.nn.Softmax(dim=-1),\n",
    "        )\n",
    "\n",
    "    def forward(self, x):\n",
    "        x = self.conv(x)\n",
    "        return self.fc(x)\n",
    "\n",
    "\n",
    "model = ConvModel(device=\"cuda\").to(device=\"cuda\")\n",
    "\n",
    "\n",
    "model(next(iter(train_dl))[0]).shape\n",
    "\n",
    "logdir = os.path.join(\n",
    "    \"logs/cifar10/large_conv\", datetime.datetime.now().strftime(\"%Y%m%d-%H%M%S\")\n",
    ")\n",
    "writer = SummaryWriter(log_dir=logdir)\n",
    "writer.add_graph(model, next(iter(train_dl))[0])"
   ]
  },
  {
   "cell_type": "code",
   "execution_count": 21,
   "metadata": {},
   "outputs": [],
   "source": [
    "## Large model\n",
    "# class ConvModel(torch.nn.Module):\n",
    "#     def __init__(self, device=\"cpu\"):\n",
    "#         super(ConvModel, self).__init__()\n",
    "\n",
    "#         self.conv: torch.nn.Sequential = torch.nn.Sequential(\n",
    "#             #\n",
    "#             torch.nn.Conv2d(3, 16, 3, padding=1),\n",
    "#             torch.nn.BatchNorm2d(16),\n",
    "#             torch.nn.LeakyReLU(),\n",
    "#             torch.nn.Conv2d(16, 16, 3, padding=1),\n",
    "#             torch.nn.BatchNorm2d(16),\n",
    "#             torch.nn.LeakyReLU(),\n",
    "#             #\n",
    "#             torch.nn.MaxPool2d(2),\n",
    "#             #\n",
    "#             torch.nn.Conv2d(16, 32, 3, padding=1),\n",
    "#             torch.nn.BatchNorm2d(32),\n",
    "#             torch.nn.LeakyReLU(),\n",
    "#             torch.nn.Conv2d(32, 32, 3, padding=1),\n",
    "#             torch.nn.BatchNorm2d(32),\n",
    "#             torch.nn.LeakyReLU(),\n",
    "#             #\n",
    "#             torch.nn.MaxPool2d(2),\n",
    "#             #\n",
    "#             torch.nn.Conv2d(32, 32, 3, padding=1),\n",
    "#             torch.nn.BatchNorm2d(32),\n",
    "#             torch.nn.LeakyReLU(),\n",
    "#             torch.nn.Conv2d(32, 32, 3, padding=1),\n",
    "#             torch.nn.BatchNorm2d(32),\n",
    "#             torch.nn.LeakyReLU(),\n",
    "#             torch.nn.Conv2d(32, 32, 3, padding=1),\n",
    "#             torch.nn.BatchNorm2d(32),\n",
    "#             torch.nn.LeakyReLU(),\n",
    "#             #\n",
    "#             torch.nn.MaxPool2d(2),\n",
    "#             #\n",
    "#             torch.nn.Conv2d(32, 16, 3, padding=1),\n",
    "#             torch.nn.BatchNorm2d(16),\n",
    "#             torch.nn.LeakyReLU(),\n",
    "#             torch.nn.Conv2d(16, 16, 3, padding=1),\n",
    "#             torch.nn.BatchNorm2d(16),\n",
    "#             torch.nn.LeakyReLU(),\n",
    "#             #\n",
    "#             torch.nn.MaxPool2d(2),\n",
    "#         )\n",
    "\n",
    "#         self.fc = torch.nn.Sequential(\n",
    "#             torch.nn.Flatten(),\n",
    "#             torch.nn.Linear(64, 32),\n",
    "#             torch.nn.LeakyReLU(),\n",
    "#             torch.nn.Linear(32, 16),\n",
    "#             torch.nn.LeakyReLU(),\n",
    "#             torch.nn.Linear(16, 10),\n",
    "#             torch.nn.Softmax(dim=-1),\n",
    "#         )\n",
    "\n",
    "#     def forward(self, x):\n",
    "#         x = self.conv(x)\n",
    "#         return self.fc(x)\n",
    "\n",
    "\n",
    "# model = ConvModel(device=\"cuda\").to(device=\"cuda\")\n",
    "\n",
    "# model(next(iter(train_dl))[0]).shape\n",
    "\n",
    "# logdir = os.path.join(\n",
    "#     \"logs/cifar10/large_conv\", datetime.datetime.now().strftime(\"%Y%m%d-%H%M%S\")\n",
    "# )\n",
    "# writer = SummaryWriter(log_dir=logdir)\n",
    "# writer.add_graph(model, next(iter(train_dl))[0])\n"
   ]
  },
  {
   "cell_type": "code",
   "execution_count": 22,
   "metadata": {},
   "outputs": [],
   "source": [
    "# compile the model, make sure to add accuracy metric\n",
    "loss = torch.nn.CrossEntropyLoss()\n",
    "optim = torch.optim.Adam(list(model.parameters()))\n",
    "# sced = torch.optim.lr_scheduler.LinearLR(optim, 0.005, 0.00001,total_iters=5000)"
   ]
  },
  {
   "cell_type": "code",
   "execution_count": 23,
   "metadata": {},
   "outputs": [],
   "source": [
    "x, y = next(iter(train_dl))"
   ]
  },
  {
   "cell_type": "code",
   "execution_count": 24,
   "metadata": {},
   "outputs": [],
   "source": [
    "pred = model(x)"
   ]
  },
  {
   "cell_type": "code",
   "execution_count": 25,
   "metadata": {},
   "outputs": [],
   "source": [
    "params = list(model.parameters())"
   ]
  },
  {
   "cell_type": "code",
   "execution_count": 26,
   "metadata": {},
   "outputs": [
    {
     "data": {
      "text/plain": [
       "54570"
      ]
     },
     "execution_count": 26,
     "metadata": {},
     "output_type": "execute_result"
    }
   ],
   "source": [
    "get_n_params(model)"
   ]
  },
  {
   "cell_type": "code",
   "execution_count": 27,
   "metadata": {},
   "outputs": [
    {
     "data": {
      "application/vnd.jupyter.widget-view+json": {
       "model_id": "44da1de2e10b49a49600600a660b9891",
       "version_major": 2,
       "version_minor": 0
      },
      "text/plain": [
       "  0%|          | 0/20 [00:00<?, ?it/s]"
      ]
     },
     "metadata": {},
     "output_type": "display_data"
    },
    {
     "data": {
      "application/vnd.jupyter.widget-view+json": {
       "model_id": "24d1a085a04349a78edd7e1fcca5ce04",
       "version_major": 2,
       "version_minor": 0
      },
      "text/plain": [
       "  0%|          | 0/293 [00:00<?, ?it/s]"
      ]
     },
     "metadata": {},
     "output_type": "display_data"
    },
    {
     "data": {
      "application/vnd.jupyter.widget-view+json": {
       "model_id": "ca891d6cbb9945d2b182aebe80b114b8",
       "version_major": 2,
       "version_minor": 0
      },
      "text/plain": [
       "  0%|          | 0/293 [00:00<?, ?it/s]"
      ]
     },
     "metadata": {},
     "output_type": "display_data"
    },
    {
     "data": {
      "application/vnd.jupyter.widget-view+json": {
       "model_id": "193320a53ba54cd28d678df99df0559c",
       "version_major": 2,
       "version_minor": 0
      },
      "text/plain": [
       "  0%|          | 0/293 [00:00<?, ?it/s]"
      ]
     },
     "metadata": {},
     "output_type": "display_data"
    },
    {
     "data": {
      "application/vnd.jupyter.widget-view+json": {
       "model_id": "be458c7b44794d4ba4a2339c056ff283",
       "version_major": 2,
       "version_minor": 0
      },
      "text/plain": [
       "  0%|          | 0/293 [00:00<?, ?it/s]"
      ]
     },
     "metadata": {},
     "output_type": "display_data"
    },
    {
     "data": {
      "application/vnd.jupyter.widget-view+json": {
       "model_id": "ed46660454644a3db1700fc598fad277",
       "version_major": 2,
       "version_minor": 0
      },
      "text/plain": [
       "  0%|          | 0/293 [00:00<?, ?it/s]"
      ]
     },
     "metadata": {},
     "output_type": "display_data"
    },
    {
     "data": {
      "application/vnd.jupyter.widget-view+json": {
       "model_id": "4288782aac6746b99fd49ef0c21a7ecc",
       "version_major": 2,
       "version_minor": 0
      },
      "text/plain": [
       "  0%|          | 0/293 [00:00<?, ?it/s]"
      ]
     },
     "metadata": {},
     "output_type": "display_data"
    },
    {
     "data": {
      "application/vnd.jupyter.widget-view+json": {
       "model_id": "4eae4d3d993d46ee8e833926c87b8bb4",
       "version_major": 2,
       "version_minor": 0
      },
      "text/plain": [
       "  0%|          | 0/293 [00:00<?, ?it/s]"
      ]
     },
     "metadata": {},
     "output_type": "display_data"
    },
    {
     "data": {
      "application/vnd.jupyter.widget-view+json": {
       "model_id": "559d2627642646c697909debe62e7c7c",
       "version_major": 2,
       "version_minor": 0
      },
      "text/plain": [
       "  0%|          | 0/293 [00:00<?, ?it/s]"
      ]
     },
     "metadata": {},
     "output_type": "display_data"
    },
    {
     "data": {
      "application/vnd.jupyter.widget-view+json": {
       "model_id": "ed794d7dcf2945139312b6d9356a4564",
       "version_major": 2,
       "version_minor": 0
      },
      "text/plain": [
       "  0%|          | 0/293 [00:00<?, ?it/s]"
      ]
     },
     "metadata": {},
     "output_type": "display_data"
    },
    {
     "data": {
      "application/vnd.jupyter.widget-view+json": {
       "model_id": "e02fe0de300e4a5ebb1310d7e1958fcb",
       "version_major": 2,
       "version_minor": 0
      },
      "text/plain": [
       "  0%|          | 0/293 [00:00<?, ?it/s]"
      ]
     },
     "metadata": {},
     "output_type": "display_data"
    },
    {
     "data": {
      "application/vnd.jupyter.widget-view+json": {
       "model_id": "a9c089aaf5cf4fe4b6a2832eabb40b1b",
       "version_major": 2,
       "version_minor": 0
      },
      "text/plain": [
       "  0%|          | 0/293 [00:00<?, ?it/s]"
      ]
     },
     "metadata": {},
     "output_type": "display_data"
    },
    {
     "data": {
      "application/vnd.jupyter.widget-view+json": {
       "model_id": "9d96689204a44408b8de35981007f306",
       "version_major": 2,
       "version_minor": 0
      },
      "text/plain": [
       "  0%|          | 0/293 [00:00<?, ?it/s]"
      ]
     },
     "metadata": {},
     "output_type": "display_data"
    },
    {
     "data": {
      "application/vnd.jupyter.widget-view+json": {
       "model_id": "d473d761b833431cb7e034ad486104d3",
       "version_major": 2,
       "version_minor": 0
      },
      "text/plain": [
       "  0%|          | 0/293 [00:00<?, ?it/s]"
      ]
     },
     "metadata": {},
     "output_type": "display_data"
    },
    {
     "data": {
      "application/vnd.jupyter.widget-view+json": {
       "model_id": "e19a915055484984ba1c3afd293cc385",
       "version_major": 2,
       "version_minor": 0
      },
      "text/plain": [
       "  0%|          | 0/293 [00:00<?, ?it/s]"
      ]
     },
     "metadata": {},
     "output_type": "display_data"
    },
    {
     "data": {
      "application/vnd.jupyter.widget-view+json": {
       "model_id": "9c32df8146204f60ac9f80593a47f9fc",
       "version_major": 2,
       "version_minor": 0
      },
      "text/plain": [
       "  0%|          | 0/293 [00:00<?, ?it/s]"
      ]
     },
     "metadata": {},
     "output_type": "display_data"
    },
    {
     "data": {
      "application/vnd.jupyter.widget-view+json": {
       "model_id": "eec6ec788eee41c0bf71e72de0257437",
       "version_major": 2,
       "version_minor": 0
      },
      "text/plain": [
       "  0%|          | 0/293 [00:00<?, ?it/s]"
      ]
     },
     "metadata": {},
     "output_type": "display_data"
    },
    {
     "data": {
      "application/vnd.jupyter.widget-view+json": {
       "model_id": "86c740de1a4a4247af23216e46162686",
       "version_major": 2,
       "version_minor": 0
      },
      "text/plain": [
       "  0%|          | 0/293 [00:00<?, ?it/s]"
      ]
     },
     "metadata": {},
     "output_type": "display_data"
    },
    {
     "data": {
      "application/vnd.jupyter.widget-view+json": {
       "model_id": "cde5eb05d19d468ba9250ec9269f790b",
       "version_major": 2,
       "version_minor": 0
      },
      "text/plain": [
       "  0%|          | 0/293 [00:00<?, ?it/s]"
      ]
     },
     "metadata": {},
     "output_type": "display_data"
    },
    {
     "data": {
      "application/vnd.jupyter.widget-view+json": {
       "model_id": "fe96131db4eb4144af424cd0f16bf7e7",
       "version_major": 2,
       "version_minor": 0
      },
      "text/plain": [
       "  0%|          | 0/293 [00:00<?, ?it/s]"
      ]
     },
     "metadata": {},
     "output_type": "display_data"
    },
    {
     "data": {
      "application/vnd.jupyter.widget-view+json": {
       "model_id": "e90c70f933db4c0daee3c2eb28882abf",
       "version_major": 2,
       "version_minor": 0
      },
      "text/plain": [
       "  0%|          | 0/293 [00:00<?, ?it/s]"
      ]
     },
     "metadata": {},
     "output_type": "display_data"
    }
   ],
   "source": [
    "min_test = np.inf\n",
    "writer.add_scalar(\n",
    "    \"params count\",\n",
    "    get_n_params(model),\n",
    "    0,\n",
    ")\n",
    "for i in tqdm(range(20)):\n",
    "    \n",
    "    model.train(True)\n",
    "    loss_val, min_test = train_one_epoch(\n",
    "        model.to(device=\"cuda\"),\n",
    "        loss,\n",
    "        i,\n",
    "        train_dl,\n",
    "        test_dl,\n",
    "        optim,\n",
    "        writer,\n",
    "        \"ConvModel\",\n",
    "        min_test,\n",
    "        # sced=sced,\n",
    "    )\n",
    "\n",
    "    model.eval()\n",
    "\n",
    "    running_loss = 0.0\n",
    "    running_acc = 0.0\n",
    "    with torch.no_grad():\n",
    "        for data, label in test_dl:\n",
    "            pred = model(data)\n",
    "            running_loss += loss(pred, label).detach()\n",
    "            running_acc += accuracy_func(pred, label)\n",
    "        writer.add_scalars(\n",
    "            \"loss\",\n",
    "            {\n",
    "                \"test\": running_loss / len(test_dl),\n",
    "            },\n",
    "            len(train_dl) * (i + 1),\n",
    "        )\n",
    "        writer.add_scalars(\n",
    "            \"accuracy\",\n",
    "            {\n",
    "                \"test\": running_acc / len(test_dl),\n",
    "            },\n",
    "            len(train_dl) * (i + 1),\n",
    "        )\n"
   ]
  },
  {
   "cell_type": "code",
   "execution_count": 28,
   "metadata": {},
   "outputs": [
    {
     "name": "stdout",
     "output_type": "stream",
     "text": [
      "torch.Size([4, 3, 32, 32])\n"
     ]
    },
    {
     "data": {
      "image/png": "[encoded data removed]",
      "text/plain": [
       "<Figure size 1000x1000 with 4 Axes>"
      ]
     },
     "metadata": {},
     "output_type": "display_data"
    }
   ],
   "source": [
    "plot_grid_and_label(test_dl, model.to(device='cpu'), label_description=label_description)"
   ]
  },
  {
   "cell_type": "code",
   "execution_count": 29,
   "metadata": {},
   "outputs": [
    {
     "data": {
      "text/plain": [
       "12500"
      ]
     },
     "execution_count": 29,
     "metadata": {},
     "output_type": "execute_result"
    }
   ],
   "source": [
    "len(X_test)"
   ]
  },
  {
   "cell_type": "code",
   "execution_count": 35,
   "metadata": {},
   "outputs": [],
   "source": [
    "model = model.eval()"
   ]
  },
  {
   "cell_type": "code",
   "execution_count": 36,
   "metadata": {},
   "outputs": [],
   "source": [
    "with torch.no_grad():\n",
    "    y_pred = (\n",
    "        (\n",
    "            model.to(device=\"cpu\")(\n",
    "                torch.tensor(X_test)\n",
    "                .reshape(-1, 3, 32, 32)\n",
    "                .to(device=\"cpu\", dtype=torch.float32)\n",
    "            )\n",
    "            .detach()\n",
    "            .numpy()\n",
    "        ).argmax(axis=-1)\n",
    "    )\n"
   ]
  },
  {
   "cell_type": "code",
   "execution_count": 37,
   "metadata": {},
   "outputs": [
    {
     "data": {
      "text/plain": [
       "<sklearn.metrics._plot.confusion_matrix.ConfusionMatrixDisplay at 0x1db04c0b590>"
      ]
     },
     "execution_count": 37,
     "metadata": {},
     "output_type": "execute_result"
    },
    {
     "data": {
      "image/png": "[encoded data removed]",
      "text/plain": [
       "<Figure size 1000x1000 with 1 Axes>"
      ]
     },
     "metadata": {},
     "output_type": "display_data"
    }
   ],
   "source": [
    "_, ax = plt.subplots(figsize=(10, 10))\n",
    "sklearn.metrics.ConfusionMatrixDisplay.from_predictions(y_test, y_pred, display_labels=label_description, ax=ax, colorbar=False)"
   ]
  },
  {
   "cell_type": "markdown",
   "metadata": {},
   "source": [
    "##### Balanced accuracy"
   ]
  },
  {
   "cell_type": "code",
   "execution_count": 38,
   "metadata": {},
   "outputs": [
    {
     "data": {
      "text/plain": [
       "(0.70744, 0.7065539331849066)"
      ]
     },
     "execution_count": 38,
     "metadata": {},
     "output_type": "execute_result"
    }
   ],
   "source": [
    "accuracy = y_test == y_pred\n",
    "accuracy.sum()/len(y_test), np.mean([np.mean(accuracy[y_test == i]) for i in range(10)])"
   ]
  },
  {
   "cell_type": "code",
   "execution_count": 39,
   "metadata": {},
   "outputs": [],
   "source": [
    "writer.close()"
   ]
  }
 ],
 "metadata": {
  "kernelspec": {
   "display_name": "Python 3 (ipykernel)",
   "language": "python",
   "name": "python3"
  },
  "language_info": {
   "codemirror_mode": {
    "name": "ipython",
    "version": 3
   },
   "file_extension": ".py",
   "mimetype": "text/x-python",
   "name": "python",
   "nbconvert_exporter": "python",
   "pygments_lexer": "ipython3",
   "version": "3.11.9"
  }
 },
 "nbformat": 4,
 "nbformat_minor": 4
}
