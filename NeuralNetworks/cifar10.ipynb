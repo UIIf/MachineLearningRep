{
 "cells": [
  {
   "cell_type": "code",
   "execution_count": 1,
   "metadata": {},
   "outputs": [],
   "source": [
    "from torch.utils.tensorboard import SummaryWriter"
   ]
  },
  {
   "cell_type": "code",
   "execution_count": 2,
   "metadata": {},
   "outputs": [],
   "source": [
    "from __future__ import annotations\n",
    "import os\n",
    "import datetime\n",
    "import numpy as np\n",
    "import sklearn.metrics\n",
    "import torch\n",
    "from torch.utils.data import Dataset\n",
    "import torchvision.transforms as T\n",
    "from torch.utils.data import DataLoader, WeightedRandomSampler\n",
    "import sklearn.datasets\n",
    "import matplotlib.pyplot as plt\n",
    "from sklearn.model_selection import train_test_split\n",
    "from torchvision.models import resnet18\n",
    "\n",
    "\n",
    "from tqdm.notebook import tqdm\n",
    "import seaborn as sns\n",
    "\n",
    "sns.set_style(\"dark\")\n",
    "sns.set(rc={\"figure.figsize\": (10, 10), \"axes.grid\": False})\n",
    "rng = np.random.default_rng()"
   ]
  },
  {
   "cell_type": "code",
   "execution_count": 3,
   "metadata": {},
   "outputs": [],
   "source": [
    "from torch.utils.data.dataloader import default_collate\n",
    "from torchvision.transforms import v2"
   ]
  },
  {
   "cell_type": "code",
   "execution_count": 4,
   "metadata": {},
   "outputs": [],
   "source": [
    "def unpickle(file):\n",
    "    import pickle\n",
    "\n",
    "    with open(file, \"rb\") as fo:\n",
    "        dict = pickle.load(fo, encoding=\"bytes\")\n",
    "    return dict\n"
   ]
  },
  {
   "cell_type": "code",
   "execution_count": 5,
   "metadata": {},
   "outputs": [],
   "source": [
    "label_description = [\n",
    "    \"airplane\",\n",
    "    \"automobile\",\n",
    "    \"bird\",\n",
    "    \"cat\",\n",
    "    \"deer\",\n",
    "    \"dog\",\n",
    "    \"frog\",\n",
    "    \"horse\",\n",
    "    \"ship\",\n",
    "    \"truck\",\n",
    "]\n",
    "\n",
    "confusion_pairs = [\n",
    "    (label_description.index(\"cat\"), label_description.index(\"dog\"), 1),\n",
    "    (label_description.index(\"dog\"), label_description.index(\"cat\"), 1),\n",
    "    (label_description.index(\"truck\"), label_description.index(\"automobile\"), 1),\n",
    "    (label_description.index(\"automobile\"), label_description.index(\"truck\"), 1),\n",
    "]\n",
    "confusion_weights_matrix = np.ones((len(label_description), len(label_description)))\n",
    "\n",
    "for i, j, w in confusion_pairs:\n",
    "    confusion_weights_matrix[i][j] = w"
   ]
  },
  {
   "cell_type": "code",
   "execution_count": 6,
   "metadata": {},
   "outputs": [],
   "source": [
    "labels = []\n",
    "data = []\n",
    "for batch_ind in range(1, 6):\n",
    "    batch = unpickle(f\"./datasets/cifar10/data_batch_{batch_ind}\")\n",
    "    labels.extend(batch[b\"labels\"])\n",
    "    if len(data) == 0:\n",
    "        data = batch[b\"data\"].reshape(-1, 3, 32, 32)\n",
    "    else:\n",
    "        data = np.concatenate((data, batch[b\"data\"].reshape(-1, 3, 32, 32)))\n",
    "\n",
    "# data = np.moveaxis(data, 1, -1)"
   ]
  },
  {
   "cell_type": "code",
   "execution_count": 7,
   "metadata": {},
   "outputs": [],
   "source": [
    "def plot_grid(X, y, ncols=2, nrows=2, figsize=(10, 10), hide_axes=True):\n",
    "    fig, ax = plt.subplots(ncols=ncols, nrows=nrows, figsize=figsize)\n",
    "    indexes = rng.choice(np.arange(X.shape[0]), size=ax.shape)\n",
    "    imgs = np.moveaxis(X[indexes].reshape(*ax.shape, 3, 32, 32), 2, -1)\n",
    "\n",
    "    plt.imshow(imgs[0][0])\n",
    "    labels = y[indexes].reshape(*ax.shape)\n",
    "    for i in range(ax.shape[0]):\n",
    "        for j in range(ax.shape[1]):\n",
    "            ax[i, j].imshow(imgs[i, j], cmap='gray')\n",
    "            ax[i, j].set_title(label_description[labels[i, j]])\n",
    "            if hide_axes:\n",
    "                ax[i, j].get_xaxis().set_visible(False)\n",
    "                ax[i, j].get_yaxis().set_visible(False)"
   ]
  },
  {
   "cell_type": "code",
   "execution_count": 8,
   "metadata": {},
   "outputs": [],
   "source": [
    "def plot_grid_and_label(\n",
    "    dataloader,\n",
    "    model,\n",
    "    ncols=2,\n",
    "    nrows=2,\n",
    "    figsize=(10, 10),\n",
    "    hide_axes=True,\n",
    "    flatten_image=True,\n",
    "    label_description=None,\n",
    "):\n",
    "    fig, ax = plt.subplots(ncols=ncols, nrows=nrows, figsize=figsize)\n",
    "\n",
    "    batch = next(iter(dataloader))\n",
    "    idx = rng.choice(np.arange(len(batch[0])), size=(nrows * ncols))\n",
    "\n",
    "    imgs = batch[0][idx].to(device=\"cpu\")\n",
    "    labels = batch[1][0][idx].to(device=\"cpu\")\n",
    "    print(imgs.shape)\n",
    "    pred = model(imgs).to(device=\"cpu\")\n",
    "    imgs, labels, pred = (\n",
    "        torch.moveaxis(imgs, 1, -1).to(device=\"cpu\").reshape(nrows, ncols, 32, 32, 3),\n",
    "        labels.to(device=\"cpu\").reshape(nrows, ncols, -1),\n",
    "        pred.reshape(nrows, ncols, -1),\n",
    "    )\n",
    "\n",
    "    for i in range(ax.shape[0]):\n",
    "        for j in range(ax.shape[1]):\n",
    "            ax[i, j].imshow(imgs[i, j], cmap=\"gray\")\n",
    "            ax[i, j].set_title(\n",
    "                f\"label: {label_description[labels[i, j].argmax()]}, prediction: {label_description[pred[i, j].argmax()]}\"\n",
    "            )\n",
    "            if hide_axes:\n",
    "                ax[i, j].get_xaxis().set_visible(False)\n",
    "                ax[i, j].get_yaxis().set_visible(False)"
   ]
  },
  {
   "cell_type": "code",
   "execution_count": 9,
   "metadata": {},
   "outputs": [],
   "source": [
    "X, y = data, np.array(labels)\n",
    "X = X / 255\n",
    "X, y = X.astype(dtype=np.float32), y\n",
    "X_train, X_valid, y_train, y_valid = train_test_split(X, y)"
   ]
  },
  {
   "cell_type": "code",
   "execution_count": 10,
   "metadata": {},
   "outputs": [],
   "source": [
    "counts = { j: np.sum(y_train == i) for i, j in enumerate(label_description) }"
   ]
  },
  {
   "cell_type": "code",
   "execution_count": 11,
   "metadata": {},
   "outputs": [
    {
     "data": {
      "text/plain": [
       "{'airplane': 3782,\n",
       " 'automobile': 3711,\n",
       " 'bird': 3770,\n",
       " 'cat': 3753,\n",
       " 'deer': 3754,\n",
       " 'dog': 3729,\n",
       " 'frog': 3753,\n",
       " 'horse': 3697,\n",
       " 'ship': 3730,\n",
       " 'truck': 3821}"
      ]
     },
     "execution_count": 11,
     "metadata": {},
     "output_type": "execute_result"
    }
   ],
   "source": [
    "counts # what to do with imbalanced classes?"
   ]
  },
  {
   "cell_type": "markdown",
   "metadata": {},
   "source": [
    "## Torch utils"
   ]
  },
  {
   "cell_type": "code",
   "execution_count": 13,
   "metadata": {},
   "outputs": [],
   "source": [
    "class AddGaussianNoise(object):\n",
    "    def __init__(self, mean=0.0, std=1.0, device=\"cpu\"):\n",
    "        self.std = std\n",
    "        self.mean = mean\n",
    "        self.device = device\n",
    "\n",
    "    def __call__(self, tensor):\n",
    "        return (\n",
    "            tensor\n",
    "            + torch.randn(tensor.size(), device=self.device) * self.std\n",
    "            + self.mean\n",
    "        )\n",
    "\n",
    "    def __repr__(self):\n",
    "        return self.__class__.__name__ + \"(mean={0}, std={1})\".format(\n",
    "            self.mean, self.std\n",
    "        )\n"
   ]
  },
  {
   "cell_type": "code",
   "execution_count": 14,
   "metadata": {},
   "outputs": [],
   "source": [
    "def get_n_params(model):\n",
    "    pp = 0\n",
    "    for p in list(model.parameters()):\n",
    "        nn = 1\n",
    "        for s in list(p.size()):\n",
    "            nn = nn * s\n",
    "        pp += nn\n",
    "    return pp"
   ]
  },
  {
   "cell_type": "code",
   "execution_count": 15,
   "metadata": {},
   "outputs": [],
   "source": [
    "class ImageDataset(Dataset):\n",
    "    inds = torch.arange(10, device=\"cuda\")\n",
    "\n",
    "    def __init__(\n",
    "        self,\n",
    "        images,\n",
    "        targets,\n",
    "        transform=None,\n",
    "        target_transform=None,\n",
    "        train_transform=None,\n",
    "    ):\n",
    "        self.images = images\n",
    "        self.targets = (ImageDataset.inds[None] == targets[:, None]).to(\n",
    "            dtype=torch.float32\n",
    "        )\n",
    "        self.raw_targets = targets\n",
    "        self.weights = torch.Tensor(\n",
    "            np.ones((len(label_description), len(label_description)))\n",
    "        ).to(device=\"cuda\", dtype=torch.float32)[targets]\n",
    "        # self.custom_loss = opposite_multiplyers[self.targets.detach().cpu().numpy()]\n",
    "        self.transform = transform\n",
    "        self.target_transform = target_transform\n",
    "        self.train_transform = train_transform\n",
    "\n",
    "        self.is_train = True\n",
    "\n",
    "    def add_confusion_weights_matrix(self, confusion_weights_matrix):\n",
    "        self.weights = torch.Tensor(confusion_weights_matrix).to(\n",
    "            device=\"cuda\", dtype=torch.float32\n",
    "        )[self.raw_targets]\n",
    "\n",
    "    def train(self):\n",
    "        self.is_train = True\n",
    "\n",
    "    def eval(self):\n",
    "        self.is_train = False\n",
    "\n",
    "    def __len__(self):\n",
    "        return len(self.images)\n",
    "\n",
    "    def __getitem__(self, idx):\n",
    "        image = self.images[idx]\n",
    "        label = self.targets[idx]\n",
    "        if self.train_transform and self.is_train:\n",
    "            image = self.train_transform(image)\n",
    "        if self.transform:\n",
    "            image = self.transform(image)\n",
    "        if self.target_transform:\n",
    "            label = self.target_transform(label)\n",
    "\n",
    "        return image, (label, self.weights[idx])"
   ]
  },
  {
   "cell_type": "code",
   "execution_count": 16,
   "metadata": {},
   "outputs": [],
   "source": [
    "def accuracy_func(pred, tareget):\n",
    "    return (pred.argmax(dim=-1) == tareget.argmax(dim=-1)).sum() / len(tareget)\n",
    "\n",
    "\n",
    "def train_one_epoch(\n",
    "    model: torch.nn.Module,\n",
    "    loss_fn,\n",
    "    epoch_index,\n",
    "    training_loader,\n",
    "    optimizer,\n",
    "    writer: SummaryWriter,\n",
    "    model_name,\n",
    "    smalest_valid_loss=np.inf,\n",
    "    sced=None,\n",
    "):\n",
    "    running_loss = 0.0\n",
    "    running_acc = 0.0\n",
    "    last_loss = 0.0\n",
    "\n",
    "    # Here, we use enumerate(training_loader) instead of\n",
    "    # iter(training_loader) so that we can track the batch\n",
    "    # index and do some intra-epoch reporting\n",
    "    with tqdm(training_loader) as iterator:\n",
    "        for i, data in enumerate(iterator):\n",
    "            model.train(True)\n",
    "            # Every data instance is an input + label pair\n",
    "            inputs, (labels, w) = data\n",
    "\n",
    "            # Zero your gradients for every batch!\n",
    "            optimizer.zero_grad()\n",
    "\n",
    "            # Make predictions for this batch\n",
    "            outputs = model(inputs) * w\n",
    "\n",
    "            # Compute the loss and its gradients\n",
    "            loss = loss_fn(outputs, labels)\n",
    "            loss.backward()\n",
    "\n",
    "            # Adjust learning weights\n",
    "            optimizer.step()\n",
    "            if sced:\n",
    "                sced.step()\n",
    "\n",
    "            # Gather data and report\n",
    "            running_loss += loss\n",
    "            running_acc += accuracy_func(outputs, labels)\n",
    "            if i % 200 == 199:\n",
    "                running_loss_valid = 0\n",
    "                running_acc_valid = 0\n",
    "\n",
    "                last_loss = running_loss / 200  # loss per batch\n",
    "                tb_x = epoch_index * len(training_loader) + i + 1\n",
    "\n",
    "                iterator.set_description_str(str(running_acc / 200))\n",
    "                writer.add_scalars(\n",
    "                    \"accuracy\",\n",
    "                    {\n",
    "                        \"train\": running_acc / 200,\n",
    "                    },\n",
    "                    tb_x,\n",
    "                )\n",
    "                writer.add_scalars(\n",
    "                    \"loss\",\n",
    "                    {\n",
    "                        \"train\": running_loss / 200,\n",
    "                    },\n",
    "                    tb_x,\n",
    "                )\n",
    "                running_loss = 0.0\n",
    "                running_acc = 0.0\n",
    "        del loss\n",
    "        torch.cuda.empty_cache()\n",
    "    return last_loss, smalest_valid_loss"
   ]
  },
  {
   "cell_type": "markdown",
   "metadata": {
    "tags": []
   },
   "source": [
    "## Images\n",
    "Use Conv2D layers with Dense layer on top"
   ]
  },
  {
   "cell_type": "code",
   "execution_count": 17,
   "metadata": {},
   "outputs": [
    {
     "name": "stderr",
     "output_type": "stream",
     "text": [
      "c:\\gr\\TempFolder\\.conda\\Lib\\site-packages\\torchvision\\transforms\\v2\\_deprecated.py:41: UserWarning: The transform `ToTensor()` is deprecated and will be removed in a future release. Instead, please use `v2.Compose([v2.ToImage(), v2.ToDtype(torch.float32, scale=True)])`.\n",
      "  warnings.warn(\n"
     ]
    }
   ],
   "source": [
    "transforms = v2.Compose(\n",
    "    [\n",
    "        v2.ToTensor(),\n",
    "        v2.RandomRotation(10),\n",
    "        # v2.ElasticTransform(50),\n",
    "        v2.ColorJitter(\n",
    "            brightness=0.05,\n",
    "            saturation=0.15,\n",
    "            hue=0.05,\n",
    "        ),\n",
    "        v2.RandomHorizontalFlip(),\n",
    "        AddGaussianNoise(std=0.03, device=\"cuda\"),\n",
    "    ]\n",
    ")"
   ]
  },
  {
   "cell_type": "code",
   "execution_count": 18,
   "metadata": {},
   "outputs": [],
   "source": [
    "# create train and validation datasets, these datasets should use 28x28x1 images\n",
    "\n",
    "# create train and validation datasets, these datasets should use flattened images\n",
    "train_ds = ImageDataset(\n",
    "    torch.tensor(X_train).to(device=\"cuda\"),\n",
    "    torch.tensor(y_train).to(device=\"cuda\"),\n",
    "    # transform=v2.Normalize((0, 0, 0), (0.5, 0.5, 0.5)),\n",
    "    train_transform=transforms,\n",
    ")\n",
    "\n",
    "valid_ds = ImageDataset(\n",
    "    torch.tensor(X_valid).to(device=\"cuda\"),\n",
    "    torch.tensor(y_valid).to(device=\"cuda\"),\n",
    "    transform=v2.Compose(\n",
    "        [\n",
    "            v2.ToTensor(),\n",
    "            # v2.Normalize((0,0,0), (0.5,0.5, 0.5))\n",
    "        ]\n",
    "    ),\n",
    ")"
   ]
  },
  {
   "cell_type": "code",
   "execution_count": 19,
   "metadata": {},
   "outputs": [],
   "source": [
    "train_dl = DataLoader(\n",
    "    train_ds,\n",
    "    batch_size=128,\n",
    "    shuffle=True\n",
    ")\n",
    "\n",
    "valid_dl = DataLoader(\n",
    "    valid_ds,\n",
    "    shuffle=True,\n",
    "    batch_size=128,\n",
    ")"
   ]
  },
  {
   "cell_type": "code",
   "execution_count": 20,
   "metadata": {},
   "outputs": [
    {
     "name": "stderr",
     "output_type": "stream",
     "text": [
      "Clipping input data to the valid range for imshow with RGB data ([0..1] for floats or [0..255] for integers).\n",
      "Clipping input data to the valid range for imshow with RGB data ([0..1] for floats or [0..255] for integers).\n",
      "Clipping input data to the valid range for imshow with RGB data ([0..1] for floats or [0..255] for integers).\n",
      "Clipping input data to the valid range for imshow with RGB data ([0..1] for floats or [0..255] for integers).\n",
      "Clipping input data to the valid range for imshow with RGB data ([0..1] for floats or [0..255] for integers).\n"
     ]
    },
    {
     "data": {
      "image/png": "[encoded data removed]",
      "text/plain": [
       "<Figure size 1000x1000 with 4 Axes>"
      ]
     },
     "metadata": {},
     "output_type": "display_data"
    },
    {
     "data": {
      "image/png": "[encoded data removed]",
      "text/plain": [
       "<Figure size 1000x1000 with 4 Axes>"
      ]
     },
     "metadata": {},
     "output_type": "display_data"
    }
   ],
   "source": [
    "dx, (dy, w) = next(iter(train_dl))\n",
    "plot_grid(dx.cpu().detach().numpy(), dy.argmax(dim=-1).cpu().detach().numpy())\n",
    "\n",
    "dx, (dy, w) = next(iter(valid_dl))\n",
    "plot_grid(dx.cpu().detach().numpy(), dy.argmax(dim=-1).cpu().detach().numpy())"
   ]
  },
  {
   "cell_type": "code",
   "execution_count": 21,
   "metadata": {},
   "outputs": [],
   "source": [
    "# # 50k model\n",
    "# class ConvModel(torch.nn.Module):\n",
    "#     def __init__(self, device=\"cpu\"):\n",
    "#         super(ConvModel, self).__init__()\n",
    "\n",
    "#         self.conv: torch.nn.Sequential = torch.nn.Sequential(\n",
    "#             #\n",
    "#             torch.nn.Conv2d(3, 16, 3, padding=1),\n",
    "#             torch.nn.BatchNorm2d(16),\n",
    "#             torch.nn.LeakyReLU(),\n",
    "#             torch.nn.Dropout2d(0.05),\n",
    "#             torch.nn.Conv2d(16, 16, 3, padding=1),\n",
    "#             torch.nn.BatchNorm2d(16),\n",
    "#             torch.nn.LeakyReLU(),\n",
    "#             #\n",
    "#             torch.nn.MaxPool2d(2),\n",
    "#             #\n",
    "#             torch.nn.Conv2d(16, 16, 3, padding=1),\n",
    "#             torch.nn.BatchNorm2d(16),\n",
    "#             torch.nn.LeakyReLU(),\n",
    "#             torch.nn.Dropout2d(0.1),\n",
    "#             torch.nn.Conv2d(16, 32, 3, padding=1),\n",
    "#             torch.nn.BatchNorm2d(32),\n",
    "#             torch.nn.LeakyReLU(),\n",
    "#             #\n",
    "#             torch.nn.MaxPool2d(2),\n",
    "#             #\n",
    "#             torch.nn.Conv2d(32, 32, 3, padding=1),\n",
    "#             torch.nn.BatchNorm2d(32),\n",
    "#             torch.nn.LeakyReLU(),\n",
    "#             torch.nn.Dropout2d(0.15),\n",
    "#             torch.nn.Conv2d(32, 32, 3, padding=1),\n",
    "#             torch.nn.BatchNorm2d(32),\n",
    "#             torch.nn.LeakyReLU(),\n",
    "#             torch.nn.Dropout2d(0.2),\n",
    "#             torch.nn.Conv2d(32, 32, 3, padding=1),\n",
    "#             torch.nn.BatchNorm2d(32),\n",
    "#             torch.nn.LeakyReLU(),\n",
    "#             #\n",
    "#             torch.nn.MaxPool2d(2),\n",
    "#             #\n",
    "#             torch.nn.Conv2d(32, 32, 3, padding=1),\n",
    "#             torch.nn.BatchNorm2d(32),\n",
    "#             torch.nn.LeakyReLU(),\n",
    "#             torch.nn.Dropout(0.2),\n",
    "#             torch.nn.Conv2d(32, 32, 3),\n",
    "#             torch.nn.BatchNorm2d(32),\n",
    "#             torch.nn.LeakyReLU(),\n",
    "#             #\n",
    "#             torch.nn.MaxPool2d(2),\n",
    "#         )\n",
    "\n",
    "#         self.fc = torch.nn.Sequential(\n",
    "#             torch.nn.Flatten(),\n",
    "#             torch.nn.Linear(32, 32),\n",
    "#             torch.nn.LeakyReLU(),\n",
    "#             torch.nn.Dropout(0.2),\n",
    "#             torch.nn.Linear(32, 16),\n",
    "#             torch.nn.LeakyReLU(),\n",
    "#             torch.nn.Dropout(0.1),\n",
    "#             torch.nn.Linear(16, 10),\n",
    "#         )\n",
    "\n",
    "#     def forward(self, x):\n",
    "#         x = self.conv(x)\n",
    "#         return self.fc(x)\n",
    "\n",
    "\n",
    "# model = ConvModel(device=\"cuda\").to(device=\"cuda\")\n",
    "\n",
    "\n",
    "# model(next(iter(train_dl))[0]).shape\n",
    "\n",
    "# logdir = os.path.join(\n",
    "#     \"logs/cifar10/50k_conv\", datetime.datetime.now().strftime(\"%Y%m%d-%H%M%S\")\n",
    "# )\n",
    "# writer = SummaryWriter(log_dir=logdir)\n",
    "# writer.add_graph(model, next(iter(train_dl))[0])\n",
    "\n",
    "# #                             /@@.................,@@.\n",
    "# #                        &@@@@@@@@%,,,,,,,,,,,,,,&@@@@@@@@&\n",
    "# #  .****************%%%%%%%%%%%%%((((((((((((((((((%%%%%%%%%%%%%****************/,\n",
    "# #  ,&&&&&&&&&&&&@@@@@&&&&@&&&&&&&@@&&&&&&&&&&&&&&&@@&&&&&@@@&&&&@@&@@&&&&&&&&&&&&*\n",
    "# #     *&&&&/////(((///(/((((((((((/(((/&&&&&&&(((((((((((((((((((//((((///(&&&&\n",
    "# #      &&&&   ..   .*(((((##(/......,,,&&&&&&&****,,,. /##///***,.   .....#&&&.\n",
    "# #      (&&&(...   .///((#####///.....*%&&&&&&&&****..,,,((#(///****.  ....&&&&\n",
    "# #       &&&&...  .///(#####%%(((/..,,/&&&@@@&&&(****.,,######(///**,. .../&&&/\n",
    "# #       #&&&*....,((####%%%%%###*,,,,&&&&&&@@&&&*****####%%%%(((///,.....&&&&\n",
    "# #        @&&%,....,#####%%%%&%%/****%%&&&%%%&&&&%///*/%&&&&%%%##((,,....%&&&*\n",
    "# #         @&&&%,...,,/(#%%%#(/****(%%&&&((((#%&&&%#//**/(#%&%%(/*,,...#%&&&\n",
    "# #          ,@@&&%####(((//***/###%&&@@(///////(&&&&&%%#(*///((((((##%&&&@\n",
    "# #           **/%@@@@@@&&&&&@@@@@@@&(/**//////////#&@@&&&&&&&&&&&&&&&@&/*\n",
    "# #           *********////////**********///////*********/////////*******,\n",
    "# #           *************//************/*/*/**************/****/*******\n",
    "# #            **************************//////************/************\n",
    "# #             *****/************@@@/***********//%@@@****************\n",
    "# #              ******************&@*,,,,,,,,,,,,*@@(****************\n",
    "# #                ******************/*..........,//****************,\n",
    "# #                  /////***********///////////////////*//********\n",
    "# #                    //////////////////////////////////////*//\n",
    "# #                       *//////////////////////////////////\n",
    "# #                           ,//////////////////////////\n",
    "# #                                  .*(///(/(((**\n",
    "# # Actually 58k\n"
   ]
  },
  {
   "cell_type": "code",
   "execution_count": 22,
   "metadata": {},
   "outputs": [],
   "source": [
    "class ConvModel(torch.nn.Module):\n",
    "    def __init__(self, device=\"cpu\"):\n",
    "        super(ConvModel, self).__init__()\n",
    "\n",
    "        self.conv: torch.nn.Sequential = torch.nn.Sequential(\n",
    "            #\n",
    "            torch.nn.Conv2d(3, 8, 3, padding=1),\n",
    "            torch.nn.BatchNorm2d(8),\n",
    "            torch.nn.LeakyReLU(),\n",
    "            #\n",
    "            torch.nn.Conv2d(8, 16, 3, padding=1),\n",
    "            torch.nn.BatchNorm2d(16),\n",
    "            torch.nn.LeakyReLU(),\n",
    "            torch.nn.Conv2d(16, 16, 3, padding=1),\n",
    "            torch.nn.BatchNorm2d(16),\n",
    "            torch.nn.LeakyReLU(),\n",
    "            torch.nn.Dropout(0.2),\n",
    "            torch.nn.Conv2d(16, 32, 3, padding=1),\n",
    "            torch.nn.BatchNorm2d(32),\n",
    "            torch.nn.LeakyReLU(),\n",
    "            #\n",
    "            torch.nn.MaxPool2d(2),\n",
    "            #\n",
    "            torch.nn.Dropout(0.2),\n",
    "            torch.nn.Conv2d(32, 32, 3, padding=1),\n",
    "            torch.nn.BatchNorm2d(32),\n",
    "            torch.nn.LeakyReLU(),\n",
    "            torch.nn.Conv2d(32, 32, 3, padding=1),\n",
    "            torch.nn.BatchNorm2d(32),\n",
    "            torch.nn.LeakyReLU(),\n",
    "            torch.nn.Conv2d(32, 32, 3),\n",
    "            torch.nn.BatchNorm2d(32),\n",
    "            torch.nn.LeakyReLU(),\n",
    "            #\n",
    "            # torch.nn.MaxPool2d(2),\n",
    "            #\n",
    "            torch.nn.Conv2d(32, 64, 3),\n",
    "            torch.nn.BatchNorm2d(64),\n",
    "            torch.nn.LeakyReLU(),\n",
    "            torch.nn.Conv2d(64, 64, 3),\n",
    "            torch.nn.BatchNorm2d(64),\n",
    "            torch.nn.LeakyReLU(),\n",
    "            #\n",
    "            torch.nn.MaxPool2d(2),\n",
    "            #\n",
    "            torch.nn.Conv2d(64, 128, 3),\n",
    "            torch.nn.BatchNorm2d(128),\n",
    "            torch.nn.LeakyReLU(),\n",
    "            # torch.nn.Conv2d(128, 128, 3, padding=1),\n",
    "            # torch.nn.BatchNorm2d(128),\n",
    "            # torch.nn.LeakyReLU(),\n",
    "            #\n",
    "            torch.nn.MaxPool2d(2),\n",
    "        )\n",
    "\n",
    "        self.fc = torch.nn.Sequential(\n",
    "            torch.nn.Flatten(),\n",
    "            torch.nn.Dropout(0.3),\n",
    "            torch.nn.Linear(128, 64),\n",
    "            torch.nn.BatchNorm1d(64),\n",
    "            torch.nn.LeakyReLU(),\n",
    "            torch.nn.Dropout(0.3),\n",
    "            torch.nn.Linear(64, 32),\n",
    "            torch.nn.BatchNorm1d(32),\n",
    "            torch.nn.LeakyReLU(),\n",
    "            torch.nn.Linear(32, 16),\n",
    "            torch.nn.BatchNorm1d(16),\n",
    "            torch.nn.LeakyReLU(),\n",
    "            torch.nn.Linear(16, 10),\n",
    "        )\n",
    "\n",
    "    def forward(self, x):\n",
    "        x = self.conv(x)\n",
    "        return self.fc(x)\n",
    "\n",
    "\n",
    "model = ConvModel(device=\"cuda\").to(device=\"cuda\")\n",
    "\n",
    "model(next(iter(train_dl))[0]).shape\n",
    "\n",
    "logdir = os.path.join(\"logs/cifar10/large_conv\", str(get_n_params(model)))\n",
    "writer = SummaryWriter(log_dir=logdir)\n",
    "writer.add_graph(model, next(iter(train_dl))[0])"
   ]
  },
  {
   "cell_type": "code",
   "execution_count": 23,
   "metadata": {},
   "outputs": [],
   "source": [
    "# compile the model, make sure to add accuracy metric\n",
    "loss = torch.nn.CrossEntropyLoss()\n",
    "optim = torch.optim.Adam(\n",
    "    list(model.parameters()),\n",
    "    weight_decay=1e-5\n",
    ")\n",
    "sced = None\n",
    "# sced = torch.optim.lr_scheduler.LinearLR(optim, 0.001, 0.00001,total_iters=5000)"
   ]
  },
  {
   "cell_type": "code",
   "execution_count": 24,
   "metadata": {},
   "outputs": [],
   "source": [
    "x, (y, w) = next(iter(train_dl))"
   ]
  },
  {
   "cell_type": "code",
   "execution_count": 25,
   "metadata": {},
   "outputs": [],
   "source": [
    "pred = model(x)"
   ]
  },
  {
   "cell_type": "code",
   "execution_count": 26,
   "metadata": {},
   "outputs": [],
   "source": [
    "params = list(model.parameters())"
   ]
  },
  {
   "cell_type": "code",
   "execution_count": 27,
   "metadata": {},
   "outputs": [
    {
     "data": {
      "text/plain": [
       "177482"
      ]
     },
     "execution_count": 27,
     "metadata": {},
     "output_type": "execute_result"
    }
   ],
   "source": [
    "get_n_params(model)"
   ]
  },
  {
   "cell_type": "code",
   "execution_count": 28,
   "metadata": {},
   "outputs": [
    {
     "data": {
      "application/vnd.jupyter.widget-view+json": {
       "model_id": "a9bec13e301a4519bbdf579b37d1e04f",
       "version_major": 2,
       "version_minor": 0
      },
      "text/plain": [
       "  0%|          | 0/60 [00:00<?, ?it/s]"
      ]
     },
     "metadata": {},
     "output_type": "display_data"
    },
    {
     "data": {
      "application/vnd.jupyter.widget-view+json": {
       "model_id": "05abd6bc0c5046c2a018fe111d5aa1c3",
       "version_major": 2,
       "version_minor": 0
      },
      "text/plain": [
       "  0%|          | 0/293 [00:00<?, ?it/s]"
      ]
     },
     "metadata": {},
     "output_type": "display_data"
    },
    {
     "data": {
      "application/vnd.jupyter.widget-view+json": {
       "model_id": "0fe674d1e2c741f089610d8899813cd3",
       "version_major": 2,
       "version_minor": 0
      },
      "text/plain": [
       "  0%|          | 0/293 [00:00<?, ?it/s]"
      ]
     },
     "metadata": {},
     "output_type": "display_data"
    },
    {
     "data": {
      "application/vnd.jupyter.widget-view+json": {
       "model_id": "0c67e96f547346ed8d54039d998861eb",
       "version_major": 2,
       "version_minor": 0
      },
      "text/plain": [
       "  0%|          | 0/293 [00:00<?, ?it/s]"
      ]
     },
     "metadata": {},
     "output_type": "display_data"
    },
    {
     "data": {
      "application/vnd.jupyter.widget-view+json": {
       "model_id": "6604cd12e1a74bd48b8ae5139e7990b0",
       "version_major": 2,
       "version_minor": 0
      },
      "text/plain": [
       "  0%|          | 0/293 [00:00<?, ?it/s]"
      ]
     },
     "metadata": {},
     "output_type": "display_data"
    },
    {
     "data": {
      "application/vnd.jupyter.widget-view+json": {
       "model_id": "d1e5d1f2bf9e4650b164ec9306bed55a",
       "version_major": 2,
       "version_minor": 0
      },
      "text/plain": [
       "  0%|          | 0/293 [00:00<?, ?it/s]"
      ]
     },
     "metadata": {},
     "output_type": "display_data"
    },
    {
     "data": {
      "application/vnd.jupyter.widget-view+json": {
       "model_id": "30ee9619c065442d8fcce8b6d364a538",
       "version_major": 2,
       "version_minor": 0
      },
      "text/plain": [
       "  0%|          | 0/293 [00:00<?, ?it/s]"
      ]
     },
     "metadata": {},
     "output_type": "display_data"
    },
    {
     "data": {
      "application/vnd.jupyter.widget-view+json": {
       "model_id": "dc30802e98d94506be32b32baddc971f",
       "version_major": 2,
       "version_minor": 0
      },
      "text/plain": [
       "  0%|          | 0/293 [00:00<?, ?it/s]"
      ]
     },
     "metadata": {},
     "output_type": "display_data"
    },
    {
     "data": {
      "application/vnd.jupyter.widget-view+json": {
       "model_id": "6b374c1940fb40c59e8533bc2d6dad5e",
       "version_major": 2,
       "version_minor": 0
      },
      "text/plain": [
       "  0%|          | 0/293 [00:00<?, ?it/s]"
      ]
     },
     "metadata": {},
     "output_type": "display_data"
    },
    {
     "data": {
      "application/vnd.jupyter.widget-view+json": {
       "model_id": "9db55efd9d074178a2db1b7ddd6e7ec3",
       "version_major": 2,
       "version_minor": 0
      },
      "text/plain": [
       "  0%|          | 0/293 [00:00<?, ?it/s]"
      ]
     },
     "metadata": {},
     "output_type": "display_data"
    },
    {
     "data": {
      "application/vnd.jupyter.widget-view+json": {
       "model_id": "a7d21751f84d4a9f826c1dc1603fcaac",
       "version_major": 2,
       "version_minor": 0
      },
      "text/plain": [
       "  0%|          | 0/293 [00:00<?, ?it/s]"
      ]
     },
     "metadata": {},
     "output_type": "display_data"
    },
    {
     "data": {
      "application/vnd.jupyter.widget-view+json": {
       "model_id": "bd61e6ebd756452bbc1f9340a65fdd7e",
       "version_major": 2,
       "version_minor": 0
      },
      "text/plain": [
       "  0%|          | 0/293 [00:00<?, ?it/s]"
      ]
     },
     "metadata": {},
     "output_type": "display_data"
    },
    {
     "data": {
      "application/vnd.jupyter.widget-view+json": {
       "model_id": "6bc3669c66aa46898f07eed2553d43f7",
       "version_major": 2,
       "version_minor": 0
      },
      "text/plain": [
       "  0%|          | 0/293 [00:00<?, ?it/s]"
      ]
     },
     "metadata": {},
     "output_type": "display_data"
    },
    {
     "data": {
      "application/vnd.jupyter.widget-view+json": {
       "model_id": "c8e84a4cdfb64a2aae7a1b8758d21bd5",
       "version_major": 2,
       "version_minor": 0
      },
      "text/plain": [
       "  0%|          | 0/293 [00:00<?, ?it/s]"
      ]
     },
     "metadata": {},
     "output_type": "display_data"
    },
    {
     "data": {
      "application/vnd.jupyter.widget-view+json": {
       "model_id": "deb9ac4ad2bf4ed28d7a946a51d2e18c",
       "version_major": 2,
       "version_minor": 0
      },
      "text/plain": [
       "  0%|          | 0/293 [00:00<?, ?it/s]"
      ]
     },
     "metadata": {},
     "output_type": "display_data"
    },
    {
     "data": {
      "application/vnd.jupyter.widget-view+json": {
       "model_id": "58c5310beeae42fb9dcd78734b3c82a7",
       "version_major": 2,
       "version_minor": 0
      },
      "text/plain": [
       "  0%|          | 0/293 [00:00<?, ?it/s]"
      ]
     },
     "metadata": {},
     "output_type": "display_data"
    },
    {
     "data": {
      "application/vnd.jupyter.widget-view+json": {
       "model_id": "82348294f595443592e1bc5ce21a44a9",
       "version_major": 2,
       "version_minor": 0
      },
      "text/plain": [
       "  0%|          | 0/293 [00:00<?, ?it/s]"
      ]
     },
     "metadata": {},
     "output_type": "display_data"
    },
    {
     "data": {
      "application/vnd.jupyter.widget-view+json": {
       "model_id": "18df4e98f5744bd8b7ae80343152890b",
       "version_major": 2,
       "version_minor": 0
      },
      "text/plain": [
       "  0%|          | 0/293 [00:00<?, ?it/s]"
      ]
     },
     "metadata": {},
     "output_type": "display_data"
    },
    {
     "data": {
      "application/vnd.jupyter.widget-view+json": {
       "model_id": "8bdfd8f1d3564d999a12ea7535d04f01",
       "version_major": 2,
       "version_minor": 0
      },
      "text/plain": [
       "  0%|          | 0/293 [00:00<?, ?it/s]"
      ]
     },
     "metadata": {},
     "output_type": "display_data"
    },
    {
     "data": {
      "application/vnd.jupyter.widget-view+json": {
       "model_id": "f3a9b95008594bcd9a64fbc95f33bca2",
       "version_major": 2,
       "version_minor": 0
      },
      "text/plain": [
       "  0%|          | 0/293 [00:00<?, ?it/s]"
      ]
     },
     "metadata": {},
     "output_type": "display_data"
    },
    {
     "data": {
      "application/vnd.jupyter.widget-view+json": {
       "model_id": "a12150de8ab84e7e8815d9c88103937d",
       "version_major": 2,
       "version_minor": 0
      },
      "text/plain": [
       "  0%|          | 0/293 [00:00<?, ?it/s]"
      ]
     },
     "metadata": {},
     "output_type": "display_data"
    },
    {
     "data": {
      "application/vnd.jupyter.widget-view+json": {
       "model_id": "11fcd02aad8d499bbb7beb6f9c9d5a21",
       "version_major": 2,
       "version_minor": 0
      },
      "text/plain": [
       "  0%|          | 0/293 [00:00<?, ?it/s]"
      ]
     },
     "metadata": {},
     "output_type": "display_data"
    },
    {
     "data": {
      "application/vnd.jupyter.widget-view+json": {
       "model_id": "e77cea7723644b75a7c902dfae4054dd",
       "version_major": 2,
       "version_minor": 0
      },
      "text/plain": [
       "  0%|          | 0/293 [00:00<?, ?it/s]"
      ]
     },
     "metadata": {},
     "output_type": "display_data"
    },
    {
     "data": {
      "application/vnd.jupyter.widget-view+json": {
       "model_id": "4fe3a4fc7f924359b5ab8f2ea947f7d7",
       "version_major": 2,
       "version_minor": 0
      },
      "text/plain": [
       "  0%|          | 0/293 [00:00<?, ?it/s]"
      ]
     },
     "metadata": {},
     "output_type": "display_data"
    },
    {
     "data": {
      "application/vnd.jupyter.widget-view+json": {
       "model_id": "7c91874a4ce74f4194fa161a6ee84050",
       "version_major": 2,
       "version_minor": 0
      },
      "text/plain": [
       "  0%|          | 0/293 [00:00<?, ?it/s]"
      ]
     },
     "metadata": {},
     "output_type": "display_data"
    },
    {
     "data": {
      "application/vnd.jupyter.widget-view+json": {
       "model_id": "fbe882d09dd1453e9eec98b324ce750c",
       "version_major": 2,
       "version_minor": 0
      },
      "text/plain": [
       "  0%|          | 0/293 [00:00<?, ?it/s]"
      ]
     },
     "metadata": {},
     "output_type": "display_data"
    },
    {
     "data": {
      "application/vnd.jupyter.widget-view+json": {
       "model_id": "b67c1f8633ab41079c1cafdf70a58973",
       "version_major": 2,
       "version_minor": 0
      },
      "text/plain": [
       "  0%|          | 0/293 [00:00<?, ?it/s]"
      ]
     },
     "metadata": {},
     "output_type": "display_data"
    },
    {
     "data": {
      "application/vnd.jupyter.widget-view+json": {
       "model_id": "fcc50812dbd041d9abc2e4daac9f66b6",
       "version_major": 2,
       "version_minor": 0
      },
      "text/plain": [
       "  0%|          | 0/293 [00:00<?, ?it/s]"
      ]
     },
     "metadata": {},
     "output_type": "display_data"
    },
    {
     "data": {
      "application/vnd.jupyter.widget-view+json": {
       "model_id": "99d5f7394b014bf4a1fc0ebd6f9bcbe9",
       "version_major": 2,
       "version_minor": 0
      },
      "text/plain": [
       "  0%|          | 0/293 [00:00<?, ?it/s]"
      ]
     },
     "metadata": {},
     "output_type": "display_data"
    },
    {
     "data": {
      "application/vnd.jupyter.widget-view+json": {
       "model_id": "5f74bbc9302a4c1d81e2cc4aa2c17557",
       "version_major": 2,
       "version_minor": 0
      },
      "text/plain": [
       "  0%|          | 0/293 [00:00<?, ?it/s]"
      ]
     },
     "metadata": {},
     "output_type": "display_data"
    },
    {
     "data": {
      "application/vnd.jupyter.widget-view+json": {
       "model_id": "d7f6e38fe6c64083b92d1521a431835f",
       "version_major": 2,
       "version_minor": 0
      },
      "text/plain": [
       "  0%|          | 0/293 [00:00<?, ?it/s]"
      ]
     },
     "metadata": {},
     "output_type": "display_data"
    },
    {
     "data": {
      "application/vnd.jupyter.widget-view+json": {
       "model_id": "199e2eec996d43a6b9ae06b9ba97c32b",
       "version_major": 2,
       "version_minor": 0
      },
      "text/plain": [
       "  0%|          | 0/293 [00:00<?, ?it/s]"
      ]
     },
     "metadata": {},
     "output_type": "display_data"
    },
    {
     "data": {
      "application/vnd.jupyter.widget-view+json": {
       "model_id": "ba60ab1aac3145e2a274b2ec8ed8f4a6",
       "version_major": 2,
       "version_minor": 0
      },
      "text/plain": [
       "  0%|          | 0/293 [00:00<?, ?it/s]"
      ]
     },
     "metadata": {},
     "output_type": "display_data"
    },
    {
     "data": {
      "application/vnd.jupyter.widget-view+json": {
       "model_id": "515d4ee390aa480892dff7d44ac20bca",
       "version_major": 2,
       "version_minor": 0
      },
      "text/plain": [
       "  0%|          | 0/293 [00:00<?, ?it/s]"
      ]
     },
     "metadata": {},
     "output_type": "display_data"
    },
    {
     "data": {
      "application/vnd.jupyter.widget-view+json": {
       "model_id": "e2d4a41a55644aeba605eb238e40a8d3",
       "version_major": 2,
       "version_minor": 0
      },
      "text/plain": [
       "  0%|          | 0/293 [00:00<?, ?it/s]"
      ]
     },
     "metadata": {},
     "output_type": "display_data"
    },
    {
     "data": {
      "application/vnd.jupyter.widget-view+json": {
       "model_id": "b2878b59162941039518d4878282c334",
       "version_major": 2,
       "version_minor": 0
      },
      "text/plain": [
       "  0%|          | 0/293 [00:00<?, ?it/s]"
      ]
     },
     "metadata": {},
     "output_type": "display_data"
    },
    {
     "data": {
      "application/vnd.jupyter.widget-view+json": {
       "model_id": "4875849d6e6c4cfc9c7e45ac74142d2a",
       "version_major": 2,
       "version_minor": 0
      },
      "text/plain": [
       "  0%|          | 0/293 [00:00<?, ?it/s]"
      ]
     },
     "metadata": {},
     "output_type": "display_data"
    },
    {
     "data": {
      "application/vnd.jupyter.widget-view+json": {
       "model_id": "febae64fb1e04ffc9768e480967a6742",
       "version_major": 2,
       "version_minor": 0
      },
      "text/plain": [
       "  0%|          | 0/293 [00:00<?, ?it/s]"
      ]
     },
     "metadata": {},
     "output_type": "display_data"
    },
    {
     "data": {
      "application/vnd.jupyter.widget-view+json": {
       "model_id": "3304d59830a34bcfb6c7fbe0b3a70db8",
       "version_major": 2,
       "version_minor": 0
      },
      "text/plain": [
       "  0%|          | 0/293 [00:00<?, ?it/s]"
      ]
     },
     "metadata": {},
     "output_type": "display_data"
    },
    {
     "data": {
      "application/vnd.jupyter.widget-view+json": {
       "model_id": "adb5b8bbd86041e4a574b599cd4e001e",
       "version_major": 2,
       "version_minor": 0
      },
      "text/plain": [
       "  0%|          | 0/293 [00:00<?, ?it/s]"
      ]
     },
     "metadata": {},
     "output_type": "display_data"
    },
    {
     "data": {
      "application/vnd.jupyter.widget-view+json": {
       "model_id": "d36b61fba0b74ab79535b5fc4dcc1a4b",
       "version_major": 2,
       "version_minor": 0
      },
      "text/plain": [
       "  0%|          | 0/293 [00:00<?, ?it/s]"
      ]
     },
     "metadata": {},
     "output_type": "display_data"
    },
    {
     "data": {
      "application/vnd.jupyter.widget-view+json": {
       "model_id": "e624bd6bc8974adc8381fd5082b12687",
       "version_major": 2,
       "version_minor": 0
      },
      "text/plain": [
       "  0%|          | 0/293 [00:00<?, ?it/s]"
      ]
     },
     "metadata": {},
     "output_type": "display_data"
    },
    {
     "data": {
      "application/vnd.jupyter.widget-view+json": {
       "model_id": "374eaf3488c3439c978b45222ee0eeae",
       "version_major": 2,
       "version_minor": 0
      },
      "text/plain": [
       "  0%|          | 0/293 [00:00<?, ?it/s]"
      ]
     },
     "metadata": {},
     "output_type": "display_data"
    },
    {
     "data": {
      "application/vnd.jupyter.widget-view+json": {
       "model_id": "9f3ec1778b8543b5bfa40479b2bcb5e3",
       "version_major": 2,
       "version_minor": 0
      },
      "text/plain": [
       "  0%|          | 0/293 [00:00<?, ?it/s]"
      ]
     },
     "metadata": {},
     "output_type": "display_data"
    },
    {
     "data": {
      "application/vnd.jupyter.widget-view+json": {
       "model_id": "dee8b542006848c78eeb48e2397ec7b3",
       "version_major": 2,
       "version_minor": 0
      },
      "text/plain": [
       "  0%|          | 0/293 [00:00<?, ?it/s]"
      ]
     },
     "metadata": {},
     "output_type": "display_data"
    },
    {
     "data": {
      "application/vnd.jupyter.widget-view+json": {
       "model_id": "a79aa49899124ef2851d10a374804f57",
       "version_major": 2,
       "version_minor": 0
      },
      "text/plain": [
       "  0%|          | 0/293 [00:00<?, ?it/s]"
      ]
     },
     "metadata": {},
     "output_type": "display_data"
    },
    {
     "data": {
      "application/vnd.jupyter.widget-view+json": {
       "model_id": "f5cadc1b7204484bb5f7c82dbb313eb7",
       "version_major": 2,
       "version_minor": 0
      },
      "text/plain": [
       "  0%|          | 0/293 [00:00<?, ?it/s]"
      ]
     },
     "metadata": {},
     "output_type": "display_data"
    },
    {
     "data": {
      "application/vnd.jupyter.widget-view+json": {
       "model_id": "a6682cc8f6ec4c7cbec2c11bafe47407",
       "version_major": 2,
       "version_minor": 0
      },
      "text/plain": [
       "  0%|          | 0/293 [00:00<?, ?it/s]"
      ]
     },
     "metadata": {},
     "output_type": "display_data"
    },
    {
     "data": {
      "application/vnd.jupyter.widget-view+json": {
       "model_id": "ed1d2c731c4c416dbf4bd41d39c34b3a",
       "version_major": 2,
       "version_minor": 0
      },
      "text/plain": [
       "  0%|          | 0/293 [00:00<?, ?it/s]"
      ]
     },
     "metadata": {},
     "output_type": "display_data"
    },
    {
     "data": {
      "application/vnd.jupyter.widget-view+json": {
       "model_id": "f61d1223e4cd412e8b1a2c4013ef6e85",
       "version_major": 2,
       "version_minor": 0
      },
      "text/plain": [
       "  0%|          | 0/293 [00:00<?, ?it/s]"
      ]
     },
     "metadata": {},
     "output_type": "display_data"
    },
    {
     "data": {
      "application/vnd.jupyter.widget-view+json": {
       "model_id": "a314088bd3104cfbb3c1109341697340",
       "version_major": 2,
       "version_minor": 0
      },
      "text/plain": [
       "  0%|          | 0/293 [00:00<?, ?it/s]"
      ]
     },
     "metadata": {},
     "output_type": "display_data"
    },
    {
     "data": {
      "application/vnd.jupyter.widget-view+json": {
       "model_id": "d714778547b942c1948096346720530f",
       "version_major": 2,
       "version_minor": 0
      },
      "text/plain": [
       "  0%|          | 0/293 [00:00<?, ?it/s]"
      ]
     },
     "metadata": {},
     "output_type": "display_data"
    },
    {
     "data": {
      "application/vnd.jupyter.widget-view+json": {
       "model_id": "9df6d3e6e34243528cce3940974dc908",
       "version_major": 2,
       "version_minor": 0
      },
      "text/plain": [
       "  0%|          | 0/293 [00:00<?, ?it/s]"
      ]
     },
     "metadata": {},
     "output_type": "display_data"
    },
    {
     "data": {
      "application/vnd.jupyter.widget-view+json": {
       "model_id": "587b4b219d0b4768b84194feb7b86c9e",
       "version_major": 2,
       "version_minor": 0
      },
      "text/plain": [
       "  0%|          | 0/293 [00:00<?, ?it/s]"
      ]
     },
     "metadata": {},
     "output_type": "display_data"
    },
    {
     "data": {
      "application/vnd.jupyter.widget-view+json": {
       "model_id": "15fc4e092135412c860d7e5a1c4c08bf",
       "version_major": 2,
       "version_minor": 0
      },
      "text/plain": [
       "  0%|          | 0/293 [00:00<?, ?it/s]"
      ]
     },
     "metadata": {},
     "output_type": "display_data"
    },
    {
     "data": {
      "application/vnd.jupyter.widget-view+json": {
       "model_id": "9874046866fd452fbe827e4b5071010e",
       "version_major": 2,
       "version_minor": 0
      },
      "text/plain": [
       "  0%|          | 0/293 [00:00<?, ?it/s]"
      ]
     },
     "metadata": {},
     "output_type": "display_data"
    },
    {
     "data": {
      "application/vnd.jupyter.widget-view+json": {
       "model_id": "59adb99d33d6488f97cfb07e8032f97d",
       "version_major": 2,
       "version_minor": 0
      },
      "text/plain": [
       "  0%|          | 0/293 [00:00<?, ?it/s]"
      ]
     },
     "metadata": {},
     "output_type": "display_data"
    },
    {
     "data": {
      "application/vnd.jupyter.widget-view+json": {
       "model_id": "fc56f6030ea84139a36ea70998d6ca1f",
       "version_major": 2,
       "version_minor": 0
      },
      "text/plain": [
       "  0%|          | 0/293 [00:00<?, ?it/s]"
      ]
     },
     "metadata": {},
     "output_type": "display_data"
    },
    {
     "data": {
      "application/vnd.jupyter.widget-view+json": {
       "model_id": "4c17cbca428e46c08376fea8489e2a4d",
       "version_major": 2,
       "version_minor": 0
      },
      "text/plain": [
       "  0%|          | 0/293 [00:00<?, ?it/s]"
      ]
     },
     "metadata": {},
     "output_type": "display_data"
    },
    {
     "data": {
      "application/vnd.jupyter.widget-view+json": {
       "model_id": "801f9952e9b54b7b8ee1b96f1ab63408",
       "version_major": 2,
       "version_minor": 0
      },
      "text/plain": [
       "  0%|          | 0/293 [00:00<?, ?it/s]"
      ]
     },
     "metadata": {},
     "output_type": "display_data"
    },
    {
     "data": {
      "application/vnd.jupyter.widget-view+json": {
       "model_id": "76454476447244cd8fed4e6f9a693516",
       "version_major": 2,
       "version_minor": 0
      },
      "text/plain": [
       "  0%|          | 0/293 [00:00<?, ?it/s]"
      ]
     },
     "metadata": {},
     "output_type": "display_data"
    }
   ],
   "source": [
    "min_valid = np.inf\n",
    "writer.add_scalar(\n",
    "    \"params count\",\n",
    "    get_n_params(model),\n",
    "    0,\n",
    ")\n",
    "model = model.to(device=\"cuda\")\n",
    "epoch_iter = tqdm(range(60))\n",
    "for i in epoch_iter:\n",
    "    if i == 45:\n",
    "        train_ds.add_confusion_weights_matrix(confusion_weights_matrix)\n",
    "        train_dl = DataLoader(train_ds, batch_size=128, shuffle=True)\n",
    "\n",
    "    model.train(True)\n",
    "    loss_val, min_valid = train_one_epoch(\n",
    "        model,\n",
    "        loss,\n",
    "        i,\n",
    "        train_dl,\n",
    "        optim,\n",
    "        writer,\n",
    "        \"ConvModel\",\n",
    "        min_valid,\n",
    "        sced=sced,\n",
    "    )\n",
    "\n",
    "    model.eval()\n",
    "\n",
    "    running_loss = 0.0\n",
    "    running_acc = 0.0\n",
    "    with torch.no_grad():\n",
    "        y_output = (\n",
    "            model.to(device=\"cuda\")(\n",
    "                torch.tensor(X_valid)\n",
    "                .reshape(-1, 3, 32, 32)\n",
    "                .to(device=\"cuda\", dtype=torch.float32)\n",
    "            )\n",
    "            .detach()\n",
    "            .cpu()\n",
    "        )\n",
    "        y_pred = y_output.argmax(dim=-1)\n",
    "        running_loss = (\n",
    "            loss(\n",
    "                y_output,\n",
    "                (\n",
    "                    ImageDataset.inds[None].detach().cpu()\n",
    "                    == torch.tensor(y_valid[:, None])\n",
    "                ).to(dtype=torch.float32),\n",
    "            )\n",
    "            .detach()\n",
    "            .cpu()\n",
    "        )\n",
    "        running_acc = (y_pred.numpy() == y_valid).sum() / len(y_valid)\n",
    "\n",
    "        epoch_iter.set_description(f\"Valid acc {running_acc:.3f}\")\n",
    "        fig, ax = plt.subplots(figsize=(10, 10))\n",
    "        sklearn.metrics.ConfusionMatrixDisplay.from_predictions(\n",
    "            y_valid,\n",
    "            y_pred.numpy(),\n",
    "            display_labels=label_description,\n",
    "            ax=ax,\n",
    "            colorbar=False,\n",
    "        )\n",
    "\n",
    "        fig.canvas.draw()\n",
    "        img = np.array(fig.canvas.renderer.buffer_rgba(), dtype=np.int32)\n",
    "        plt.close()\n",
    "        writer.add_image(\n",
    "            tag=\"Confusion matrix valid\",\n",
    "            img_tensor=np.moveaxis(img, -1, 0) / 255,\n",
    "            global_step=len(train_dl) * (i + 1),\n",
    "        )\n",
    "\n",
    "        writer.add_scalars(\n",
    "            \"loss\",\n",
    "            {\n",
    "                \"valid\": running_loss,\n",
    "            },\n",
    "            len(train_dl) * (i + 1),\n",
    "        )\n",
    "        writer.add_scalars(\n",
    "            \"accuracy\",\n",
    "            {\n",
    "                \"valid\": running_acc,\n",
    "            },\n",
    "            len(train_dl) * (i + 1),\n",
    "        )"
   ]
  },
  {
   "cell_type": "code",
   "execution_count": 29,
   "metadata": {},
   "outputs": [
    {
     "name": "stdout",
     "output_type": "stream",
     "text": [
      "torch.Size([4, 3, 32, 32])\n"
     ]
    },
    {
     "data": {
      "image/png": "[encoded data removed]",
      "text/plain": [
       "<Figure size 1000x1000 with 4 Axes>"
      ]
     },
     "metadata": {},
     "output_type": "display_data"
    }
   ],
   "source": [
    "plot_grid_and_label(valid_dl, model.to(device='cpu'), label_description=label_description)"
   ]
  },
  {
   "cell_type": "code",
   "execution_count": 30,
   "metadata": {},
   "outputs": [
    {
     "data": {
      "text/plain": [
       "12500"
      ]
     },
     "execution_count": 30,
     "metadata": {},
     "output_type": "execute_result"
    }
   ],
   "source": [
    "len(X_valid)"
   ]
  },
  {
   "cell_type": "code",
   "execution_count": 31,
   "metadata": {},
   "outputs": [],
   "source": [
    "model = model.eval()"
   ]
  },
  {
   "cell_type": "code",
   "execution_count": 32,
   "metadata": {},
   "outputs": [],
   "source": [
    "with torch.no_grad():\n",
    "    y_pred = (\n",
    "        (\n",
    "            model.to(device=\"cpu\")(\n",
    "                torch.tensor(X_valid)\n",
    "                .reshape(-1, 3, 32, 32)\n",
    "                .to(device=\"cpu\", dtype=torch.float32)\n",
    "            )\n",
    "            .detach()\n",
    "            .numpy()\n",
    "        ).argmax(axis=-1)\n",
    "    )\n"
   ]
  },
  {
   "cell_type": "markdown",
   "metadata": {},
   "source": [
    "##### Balanced accuracy"
   ]
  },
  {
   "cell_type": "code",
   "execution_count": 33,
   "metadata": {},
   "outputs": [
    {
     "data": {
      "text/plain": [
       "(0.82208, 0.8218758232236789)"
      ]
     },
     "execution_count": 33,
     "metadata": {},
     "output_type": "execute_result"
    }
   ],
   "source": [
    "accuracy = y_valid == y_pred\n",
    "accuracy.sum()/len(y_valid), np.mean([np.mean(accuracy[y_valid == i]) for i in range(10)])"
   ]
  },
  {
   "cell_type": "markdown",
   "metadata": {},
   "source": [
    "# TEST"
   ]
  },
  {
   "cell_type": "code",
   "execution_count": 34,
   "metadata": {},
   "outputs": [],
   "source": [
    "labels = []\n",
    "data = []\n",
    "batch = unpickle(f\"./datasets/cifar10/test_batch\")\n",
    "labels.extend(batch[b\"labels\"])\n",
    "data = batch[b\"data\"].reshape(-1, 3, 32, 32)/255"
   ]
  },
  {
   "cell_type": "code",
   "execution_count": 35,
   "metadata": {},
   "outputs": [
    {
     "data": {
      "text/plain": [
       "(10000, 3, 32, 32)"
      ]
     },
     "execution_count": 35,
     "metadata": {},
     "output_type": "execute_result"
    }
   ],
   "source": [
    "data.shape"
   ]
  },
  {
   "cell_type": "code",
   "execution_count": 36,
   "metadata": {},
   "outputs": [],
   "source": [
    "with torch.no_grad():\n",
    "    pred = model(torch.tensor(data, dtype=torch.float32)).detach().cpu().numpy()"
   ]
  },
  {
   "cell_type": "code",
   "execution_count": 37,
   "metadata": {},
   "outputs": [],
   "source": [
    "y_pred = pred.argmax(axis=1).astype(int)\n",
    "y_test = np.array(labels,dtype=int)"
   ]
  },
  {
   "cell_type": "code",
   "execution_count": 38,
   "metadata": {},
   "outputs": [
    {
     "data": {
      "text/plain": [
       "(0.8194, 0.8194000000000001)"
      ]
     },
     "execution_count": 38,
     "metadata": {},
     "output_type": "execute_result"
    }
   ],
   "source": [
    "accuracy = y_test == y_pred\n",
    "(\n",
    "    accuracy.sum() / len(y_test),\n",
    "    np.mean([np.mean(accuracy[y_test == i]) for i in range(10)]),\n",
    ")\n"
   ]
  },
  {
   "cell_type": "code",
   "execution_count": 39,
   "metadata": {},
   "outputs": [],
   "source": [
    "writer.add_scalars(\n",
    "    \"accuracy\",\n",
    "    {\n",
    "        \"test\": accuracy.sum() / len(y_test),\n",
    "    },\n",
    "    len(train_dl) * (i + 1),\n",
    ")\n"
   ]
  },
  {
   "cell_type": "code",
   "execution_count": 40,
   "metadata": {},
   "outputs": [],
   "source": [
    "writer.close()"
   ]
  },
  {
   "cell_type": "code",
   "execution_count": null,
   "metadata": {},
   "outputs": [],
   "source": []
  }
 ],
 "metadata": {
  "kernelspec": {
   "display_name": "Python 3 (ipykernel)",
   "language": "python",
   "name": "python3"
  },
  "language_info": {
   "codemirror_mode": {
    "name": "ipython",
    "version": 3
   },
   "file_extension": ".py",
   "mimetype": "text/x-python",
   "name": "python",
   "nbconvert_exporter": "python",
   "pygments_lexer": "ipython3",
   "version": "3.11.9"
  }
 },
 "nbformat": 4,
 "nbformat_minor": 4
}
