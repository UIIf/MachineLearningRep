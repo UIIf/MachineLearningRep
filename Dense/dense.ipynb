{
 "cells": [
  {
   "cell_type": "code",
   "execution_count": 129,
   "metadata": {},
   "outputs": [],
   "source": [
    "import numpy as np\n",
    "from typing import Optional, Tuple, Union\n",
    "\n",
    "\n",
    "class Dense:\n",
    "    \"\"\"Implements fully-connected layer\"\"\"\n",
    "\n",
    "    def __init__(self, n_in: int, n_out: int, use_bias: bool = True):\n",
    "        \"\"\"Initializes Dense layer.\n",
    "        The weights are initialized using uniformly distributed values in range [-1, 1]. Bias vector is not initialized if `use_bias` is False.\n",
    "        Weigths matrix has the shape (`n_in`, `n_out`), bias vector has the shape (`n_out`, ).\n",
    "\n",
    "        Arguments:\n",
    "            n_in: Positive integer, dimensionality of input space.\n",
    "            n_out: Positive integer, dimensionality of output space.\n",
    "            use_bias: Whether the layer uses a bias vector.\"\"\"\n",
    "        self._weights = np.random.uniform(low=-1, high=1, size=(n_in + use_bias, n_out))\n",
    "        self.use_bias = use_bias\n",
    "\n",
    "    @property\n",
    "    def weights(self) -> tuple[np.ndarray, np.ndarray] | tuple[np.ndarray]:\n",
    "        \"\"\"Returns weights used by the layer.\"\"\"\n",
    "        if self.use_bias:\n",
    "            return self._weights[:-1], self._weights[-1]\n",
    "        return (self._weights,)\n",
    "\n",
    "    @weights.setter\n",
    "    def weights(self, value):\n",
    "        if len(value) > 1:\n",
    "            self._weights[:-1] = value[0]\n",
    "            self._weights[-1] = value[1]\n",
    "        else:\n",
    "            self._weights = value[0]\n",
    "\n",
    "    @property\n",
    "    def input(self) -> np.ndarray:\n",
    "        \"\"\"Returns the last input received by the layer\"\"\"\n",
    "        return self._input\n",
    "\n",
    "    @input.setter\n",
    "    def input(self, other):\n",
    "        self._input = other\n",
    "\n",
    "    def __call__(self, x: np.ndarray) -> np.ndarray:\n",
    "        \"\"\"Performs the layer forward pass.\n",
    "\n",
    "        Arguments:\n",
    "            x: Input array of shape (`batch_size`, `n_in`)\n",
    "\n",
    "        Returns:\n",
    "            An array of shape (`batch_size`, `n_out`)\"\"\"\n",
    "        self._input = x\n",
    "        if self.use_bias:\n",
    "            x = np.c_[x, np.ones(x.shape[0])]\n",
    "        return x @ self._weights\n",
    "\n",
    "    def grad(\n",
    "        self, gradOutput: np.ndarray\n",
    "    ) -> (\n",
    "        tuple[np.ndarray, tuple[np.ndarray, np.ndarray]]\n",
    "        | tuple[np.ndarray, tuple[np.ndarray]]\n",
    "    ):\n",
    "        \"\"\"Computes layer gradients\n",
    "\n",
    "        Arguments:\n",
    "            gradOutput: Gradient of loss function with respect to the layer output, an array of shape (`batch_size`, `n_out`).\n",
    "\n",
    "        Returns:\n",
    "            A tuple object:\n",
    "                Gradient of loss function with respect to the layer input, an array of shape (`batch_size`, `n_in`)\n",
    "                Gradient of loss function with respect to the layer's weights:\n",
    "                    An array of shape (`n_in`, `n_out`).\n",
    "                    Optional array of shape (`n_out`, ).\"\"\"\n",
    "\n",
    "        x = self.input\n",
    "        if self.use_bias:\n",
    "            x = np.c_[x, np.ones(x.shape[0])]\n",
    "        w_grad = x.T @ gradOutput\n",
    "        x_grad = gradOutput @ (self._weights[:-1] if self.use_bias else self._weights).T\n",
    "        return (x_grad, (w_grad[:-1], w_grad[-1]) if self.use_bias else (w_grad,))"
   ]
  },
  {
   "cell_type": "code",
   "execution_count": 130,
   "metadata": {},
   "outputs": [
    {
     "name": "stdout",
     "output_type": "stream",
     "text": [
      "(10, 5)\n"
     ]
    }
   ],
   "source": [
    "m = Dense(3, 5)\n",
    "print(m(np.random.uniform(size=(10, 3))).shape)\n",
    "g = m.grad(np.random.uniform(size=(10,5)))"
   ]
  },
  {
   "cell_type": "code",
   "execution_count": 133,
   "metadata": {},
   "outputs": [
    {
     "data": {
      "text/plain": [
       "(5,)"
      ]
     },
     "execution_count": 133,
     "metadata": {},
     "output_type": "execute_result"
    }
   ],
   "source": [
    "g[1][1].shape"
   ]
  }
 ],
 "metadata": {
  "kernelspec": {
   "display_name": "ml",
   "language": "python",
   "name": "python3"
  },
  "language_info": {
   "codemirror_mode": {
    "name": "ipython",
    "version": 3
   },
   "file_extension": ".py",
   "mimetype": "text/x-python",
   "name": "python",
   "nbconvert_exporter": "python",
   "pygments_lexer": "ipython3",
   "version": "3.12.2"
  }
 },
 "nbformat": 4,
 "nbformat_minor": 2
}
