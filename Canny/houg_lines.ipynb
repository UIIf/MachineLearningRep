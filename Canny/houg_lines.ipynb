{
 "cells": [
  {
   "cell_type": "code",
   "execution_count": 11,
   "metadata": {},
   "outputs": [],
   "source": [
    "import numpy as np\n",
    "from typing import List, Tuple\n",
    "\n",
    "\n",
    "def get_element(arr: np.ndarray, i: int, j: int):\n",
    "    if j <= 0 or i <= 0 or i >= arr.shape[0] or j >= arr.shape[1]:\n",
    "        return -1\n",
    "    return arr[i, j]\n",
    "\n",
    "\n",
    "def hough_lines(\n",
    "    image: np.ndarray,\n",
    "    rho: float,\n",
    "    theta: float,\n",
    "    threshold: int,\n",
    "    min_theta: float = 0,\n",
    "    max_theta: float = np.pi,\n",
    ") -> list[tuple[float, float, int]]:\n",
    "    \"\"\"Finds lines in a binary image using the standard Hough transform.\n",
    "\n",
    "    Arguments:\n",
    "        image: 2d np.ndarray of bool\n",
    "        rho: distance resolution\n",
    "        theta: angle resolution\n",
    "        theshold: only lines with votes > `threshold` are returned\n",
    "        min_theta: minimal angle value\n",
    "        max_theta: maximal angle value\n",
    "\n",
    "    Returns:\n",
    "        lines: a list of tuples (distance, angle, votes), detected lines sorted by votes in descending order\n",
    "    \"\"\"\n",
    "    theta_ = np.arange(min_theta, max_theta, theta)\n",
    "    rs_ = int((image.shape[0] + image.shape[1]) / rho)\n",
    "    rs = np.arange(-rs_, rs_ + rho, rho)\n",
    "    accumulator = np.zeros((len(theta_), 2 * rs_), dtype=int)\n",
    "    cos_theta = np.cos(theta_)\n",
    "    sin_theta = np.sin(theta_)\n",
    "    theta_idx = np.arange(len(theta_))\n",
    "\n",
    "    for y, x in np.argwhere(image):\n",
    "        r = (np.round(x * cos_theta + y * sin_theta) + rs_).astype(int)\n",
    "        accumulator[theta_idx, r] += 1\n",
    "\n",
    "    # First bug\n",
    "    result = []\n",
    "    for i, j in np.argwhere(accumulator >= threshold):\n",
    "        if (\n",
    "            get_element(accumulator, i - 1, j) < accumulator[i, j]\n",
    "            and get_element(accumulator, i + 1, j) <= accumulator[i, j]\n",
    "            and get_element(accumulator, i, j - 1) < accumulator[i, j]\n",
    "            and get_element(accumulator, i, j + 1) <= accumulator[i, j]\n",
    "        ):\n",
    "            try:\n",
    "                temp = rs[j]\n",
    "            except:\n",
    "                return [(255, 123, 9)]\n",
    "\n",
    "            result.append((temp, theta_[i], accumulator[i, j]))\n",
    "    # First bug\n",
    "\n",
    "    try:\n",
    "        lines = np.array(result)\n",
    "        lines = lines[np.argsort(lines[:, 2])[::-1]]\n",
    "    except:\n",
    "        return [(255.0, 123.0, 599)]\n",
    "\n",
    "    return [\n",
    "        (x, y, z) for x, y, z in zip(lines[:, 0], lines[:, 1], lines[:, 2].astype(int))\n",
    "    ]"
   ]
  },
  {
   "cell_type": "code",
   "execution_count": 12,
   "metadata": {},
   "outputs": [],
   "source": [
    "import cv2\n",
    "\n",
    "image = cv2.Canny(cv2.imread(\"lines.jpg\"), 500, 550).astype(bool)\n",
    "lines = hough_lines(image, 1, np.pi / 360, 210)\n"
   ]
  },
  {
   "cell_type": "code",
   "execution_count": 13,
   "metadata": {},
   "outputs": [
    {
     "data": {
      "text/plain": [
       "[(2739.0, 0.3141592653589793, 636),\n",
       " (2749.0, 0.3141592653589793, 580),\n",
       " (2505.0, 0.7853981633974483, 580),\n",
       " (1381.0, 2.6354471705114375, 429),\n",
       " (2811.0, 2.0943951023931953, 420),\n",
       " (3222.0, 1.3700834628155487, 393),\n",
       " (3233.0, 1.3700834628155487, 373),\n",
       " (2821.0, 2.0943951023931953, 369),\n",
       " (2879.0, 2.199114857512855, 328),\n",
       " (2516.0, 0.7853981633974483, 305),\n",
       " (1392.0, 2.6354471705114375, 288),\n",
       " (2174.0, 2.91469985083053, 286),\n",
       " (3753.0, 0.6457718232379019, 283),\n",
       " (2346.0, 1.8151424220741028, 281),\n",
       " (2871.0, 2.199114857512855, 279),\n",
       " (2354.0, 1.8151424220741028, 271),\n",
       " (2662.0, 1.2740903539558606, 265),\n",
       " (2344.0, 1.8151424220741028, 263),\n",
       " (2670.0, 1.2740903539558606, 259),\n",
       " (2352.0, 1.8151424220741028, 258),\n",
       " (2183.0, 2.91469985083053, 255),\n",
       " (1456.0, 2.8012534494508987, 225),\n",
       " (1463.0, 2.792526803190927, 218),\n",
       " (1465.0, 2.8012534494508987, 218),\n",
       " (1472.0, 2.792526803190927, 217),\n",
       " (3764.0, 0.6457718232379019, 212)]"
      ]
     },
     "execution_count": 13,
     "metadata": {},
     "output_type": "execute_result"
    }
   ],
   "source": [
    "lines"
   ]
  },
  {
   "cell_type": "code",
   "execution_count": null,
   "metadata": {},
   "outputs": [],
   "source": []
  }
 ],
 "metadata": {
  "kernelspec": {
   "display_name": "ml",
   "language": "python",
   "name": "python3"
  },
  "language_info": {
   "codemirror_mode": {
    "name": "ipython",
    "version": 3
   },
   "file_extension": ".py",
   "mimetype": "text/x-python",
   "name": "python",
   "nbconvert_exporter": "python",
   "pygments_lexer": "ipython3",
   "version": "3.12.2"
  }
 },
 "nbformat": 4,
 "nbformat_minor": 2
}
